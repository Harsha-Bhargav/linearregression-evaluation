{
  "cells": [
    {
      "cell_type": "markdown",
      "metadata": {
        "id": "Yq0XoVUIVNLC"
      },

    {
      "cell_type": "markdown",
      "metadata": {
        "id": "0aqF485OxR-U"
      },
    
  
    {
      "cell_type": "markdown",
      "metadata": {
        "id": "QkMxpyKOxR-L"
      },
      "source": [
        "## Part 1: Linear Regression"
      ]
    },
    {
      "cell_type": "markdown",
      "metadata": {
        "id": "3IKYRqKtxR-N"
      },
      "source": [
        "### Problem 1 ##"
      ]
    },
    {
      "cell_type": "markdown",
      "metadata": {
        "id": "H8fENJRPk7P7"
      },
      "source": [
        "In this problem, you are expected to build a model to predict the Boston housing price.\n"
      ]
    },
    {
      "cell_type": "markdown",
      "source": [
        "_boston_dataset:\n",
        "\n",
        "Boston house prices dataset\n",
        "---------------------------\n",
        "\n",
        "**Data Set Characteristics:**  \n",
        "\n",
        "    :Number of Instances: 506 \n",
        "\n",
        "    :Number of Attributes: 13 numeric/categorical predictive. Median Value (attribute 14) is usually the target.\n",
        "\n",
        "    :Attribute Information (in order):\n",
        "        - CRIM     per capita crime rate by town\n",
        "        - ZN       proportion of residential land zoned for lots over 25,000 sq.ft.\n",
        "        - INDUS    proportion of non-retail business acres per town\n",
        "        - CHAS     Charles River dummy variable (= 1 if tract bounds river; 0 otherwise)\n",
        "        - NOX      nitric oxides concentration (parts per 10 million)\n",
        "        - RM       average number of rooms per dwelling\n",
        "        - AGE      proportion of owner-occupied units built prior to 1940\n",
        "        - DIS      weighted distances to five Boston employment centres\n",
        "        - RAD      index of accessibility to radial highways\n",
        "        - TAX      full-value property-tax rate per $10,000\n",
        "        - PTRATIO  pupil-teacher ratio by town\n",
        "        - B        1000(Bk - 0.63)^2 where Bk is the proportion of blacks by town\n",
        "        - LSTAT    % lower status of the population\n",
        "        - MEDV     Median value of owner-occupied homes in $1000's\n",
        "\n",
        "    :Missing Attribute Values: None\n",
        "\n",
        "    :Creator: Harrison, D. and Rubinfeld, D.L.\n",
        "\n",
        "This is a copy of UCI ML housing dataset.\n",
        "https://archive.ics.uci.edu/ml/machine-learning-databases/housing/\n",
        "\n",
        "\n",
        "This dataset was taken from the StatLib library which is maintained at Carnegie Mellon University.\n",
        "\n",
        "The Boston house-price data of Harrison, D. and Rubinfeld, D.L. 'Hedonic\n",
        "prices and the demand for clean air', J. Environ. Economics & Management,\n",
        "vol.5, 81-102, 1978.   Used in Belsley, Kuh & Welsch, 'Regression diagnostics\n",
        "...', Wiley, 1980.   N.B. Various transformations are used in the table on\n",
        "pages 244-261 of the latter.\n",
        "\n",
        "The Boston house-price data has been used in many machine learning papers that address regression\n",
        "problems.   "
      ],
      "metadata": {
        "id": "46rHNcwgKjZL"
      }
    },
    {
      "cell_type": "code",
      "execution_count": null,
      "metadata": {
        "id": "0J9ra7d4rXb6"
      },
      "outputs": [],
      "source": [
        "# # Please remove # and run the following code if you have an error while importing the dataset\n",
        "# !pip install --upgrade openpyxl"
      ]
    },
    {
      "cell_type": "code",
      "execution_count": 57,
      "metadata": {
        "id": "-aISISDbDVKG"
      },
      "outputs": [],
      "source": [
        "from sklearn import datasets\n",
        "import pandas as pd\n",
        "import numpy as np\n",
        "import seaborn as sns\n",
        "import matplotlib.pyplot as plt\n",
        "np.set_printoptions(suppress=True)\n",
        "import sklearn"
      ]
    },
    {
      "cell_type": "code",
      "execution_count": 58,
      "metadata": {
        "id": "vp1m53zhwdu2"
      },
      "outputs": [],
      "source": [
        "#Load boston housing dataset\n",
        "#from google.colab import files\n",
        "#file = files.upload()\n",
        "Boston_Housing = pd.read_csv(\"BostonHousing.csv\")\n",
        "X = pd.DataFrame(Boston_Housing.drop(['medv'], axis=1))\n",
        "\n",
        "#\"medv\" is the response variable \n",
        "\n",
        "y = Boston_Housing['medv'] "
      ]
    },
    {
      "cell_type": "code",
      "execution_count": 59,
      "metadata": {
        "id": "koZ7LZPkZ5bq"
      },
      "outputs": [],
      "source": [
        "data = X\n",
        "data['medv'] = y"
      ]
    },
    {
      "cell_type": "code",
      "execution_count": 60,
      "metadata": {
        "colab": {
          "base_uri": "https://localhost:8080/",
          "height": 206
        },
        "id": "X1ki8-fqZ_Sc",
        "outputId": "c5193b5d-137c-4676-8d7e-df13142f66bd"
      },
      "outputs": [
        {
          "output_type": "execute_result",
          "data": {
            "text/plain": [
              "      crim    zn  indus  chas    nox     rm   age     dis  rad  tax  ptratio  \\\n",
              "0  0.00632  18.0   2.31     0  0.538  6.575  65.2  4.0900    1  296     15.3   \n",
              "1  0.02731   0.0   7.07     0  0.469  6.421  78.9  4.9671    2  242     17.8   \n",
              "2  0.02729   0.0   7.07     0  0.469  7.185  61.1  4.9671    2  242     17.8   \n",
              "3  0.03237   0.0   2.18     0  0.458  6.998  45.8  6.0622    3  222     18.7   \n",
              "4  0.06905   0.0   2.18     0  0.458  7.147  54.2  6.0622    3  222     18.7   \n",
              "\n",
              "        b  lstat  medv  \n",
              "0  396.90   4.98  24.0  \n",
              "1  396.90   9.14  21.6  \n",
              "2  392.83   4.03  34.7  \n",
              "3  394.63   2.94  33.4  \n",
              "4  396.90   5.33  36.2  "
            ],
            "text/html": [
              "\n",
              "  <div id=\"df-5d67e430-32c4-4410-b874-dfac597aa6a5\">\n",
              "    <div class=\"colab-df-container\">\n",
              "      <div>\n",
              "<style scoped>\n",
              "    .dataframe tbody tr th:only-of-type {\n",
              "        vertical-align: middle;\n",
              "    }\n",
              "\n",
              "    .dataframe tbody tr th {\n",
              "        vertical-align: top;\n",
              "    }\n",
              "\n",
              "    .dataframe thead th {\n",
              "        text-align: right;\n",
              "    }\n",
              "</style>\n",
              "<table border=\"1\" class=\"dataframe\">\n",
              "  <thead>\n",
              "    <tr style=\"text-align: right;\">\n",
              "      <th></th>\n",
              "      <th>crim</th>\n",
              "      <th>zn</th>\n",
              "      <th>indus</th>\n",
              "      <th>chas</th>\n",
              "      <th>nox</th>\n",
              "      <th>rm</th>\n",
              "      <th>age</th>\n",
              "      <th>dis</th>\n",
              "      <th>rad</th>\n",
              "      <th>tax</th>\n",
              "      <th>ptratio</th>\n",
              "      <th>b</th>\n",
              "      <th>lstat</th>\n",
              "      <th>medv</th>\n",
              "    </tr>\n",
              "  </thead>\n",
              "  <tbody>\n",
              "    <tr>\n",
              "      <th>0</th>\n",
              "      <td>0.00632</td>\n",
              "      <td>18.0</td>\n",
              "      <td>2.31</td>\n",
              "      <td>0</td>\n",
              "      <td>0.538</td>\n",
              "      <td>6.575</td>\n",
              "      <td>65.2</td>\n",
              "      <td>4.0900</td>\n",
              "      <td>1</td>\n",
              "      <td>296</td>\n",
              "      <td>15.3</td>\n",
              "      <td>396.90</td>\n",
              "      <td>4.98</td>\n",
              "      <td>24.0</td>\n",
              "    </tr>\n",
              "    <tr>\n",
              "      <th>1</th>\n",
              "      <td>0.02731</td>\n",
              "      <td>0.0</td>\n",
              "      <td>7.07</td>\n",
              "      <td>0</td>\n",
              "      <td>0.469</td>\n",
              "      <td>6.421</td>\n",
              "      <td>78.9</td>\n",
              "      <td>4.9671</td>\n",
              "      <td>2</td>\n",
              "      <td>242</td>\n",
              "      <td>17.8</td>\n",
              "      <td>396.90</td>\n",
              "      <td>9.14</td>\n",
              "      <td>21.6</td>\n",
              "    </tr>\n",
              "    <tr>\n",
              "      <th>2</th>\n",
              "      <td>0.02729</td>\n",
              "      <td>0.0</td>\n",
              "      <td>7.07</td>\n",
              "      <td>0</td>\n",
              "      <td>0.469</td>\n",
              "      <td>7.185</td>\n",
              "      <td>61.1</td>\n",
              "      <td>4.9671</td>\n",
              "      <td>2</td>\n",
              "      <td>242</td>\n",
              "      <td>17.8</td>\n",
              "      <td>392.83</td>\n",
              "      <td>4.03</td>\n",
              "      <td>34.7</td>\n",
              "    </tr>\n",
              "    <tr>\n",
              "      <th>3</th>\n",
              "      <td>0.03237</td>\n",
              "      <td>0.0</td>\n",
              "      <td>2.18</td>\n",
              "      <td>0</td>\n",
              "      <td>0.458</td>\n",
              "      <td>6.998</td>\n",
              "      <td>45.8</td>\n",
              "      <td>6.0622</td>\n",
              "      <td>3</td>\n",
              "      <td>222</td>\n",
              "      <td>18.7</td>\n",
              "      <td>394.63</td>\n",
              "      <td>2.94</td>\n",
              "      <td>33.4</td>\n",
              "    </tr>\n",
              "    <tr>\n",
              "      <th>4</th>\n",
              "      <td>0.06905</td>\n",
              "      <td>0.0</td>\n",
              "      <td>2.18</td>\n",
              "      <td>0</td>\n",
              "      <td>0.458</td>\n",
              "      <td>7.147</td>\n",
              "      <td>54.2</td>\n",
              "      <td>6.0622</td>\n",
              "      <td>3</td>\n",
              "      <td>222</td>\n",
              "      <td>18.7</td>\n",
              "      <td>396.90</td>\n",
              "      <td>5.33</td>\n",
              "      <td>36.2</td>\n",
              "    </tr>\n",
              "  </tbody>\n",
              "</table>\n",
              "</div>\n",
              "      <button class=\"colab-df-convert\" onclick=\"convertToInteractive('df-5d67e430-32c4-4410-b874-dfac597aa6a5')\"\n",
              "              title=\"Convert this dataframe to an interactive table.\"\n",
              "              style=\"display:none;\">\n",
              "        \n",
              "  <svg xmlns=\"http://www.w3.org/2000/svg\" height=\"24px\"viewBox=\"0 0 24 24\"\n",
              "       width=\"24px\">\n",
              "    <path d=\"M0 0h24v24H0V0z\" fill=\"none\"/>\n",
              "    <path d=\"M18.56 5.44l.94 2.06.94-2.06 2.06-.94-2.06-.94-.94-2.06-.94 2.06-2.06.94zm-11 1L8.5 8.5l.94-2.06 2.06-.94-2.06-.94L8.5 2.5l-.94 2.06-2.06.94zm10 10l.94 2.06.94-2.06 2.06-.94-2.06-.94-.94-2.06-.94 2.06-2.06.94z\"/><path d=\"M17.41 7.96l-1.37-1.37c-.4-.4-.92-.59-1.43-.59-.52 0-1.04.2-1.43.59L10.3 9.45l-7.72 7.72c-.78.78-.78 2.05 0 2.83L4 21.41c.39.39.9.59 1.41.59.51 0 1.02-.2 1.41-.59l7.78-7.78 2.81-2.81c.8-.78.8-2.07 0-2.86zM5.41 20L4 18.59l7.72-7.72 1.47 1.35L5.41 20z\"/>\n",
              "  </svg>\n",
              "      </button>\n",
              "      \n",
              "  <style>\n",
              "    .colab-df-container {\n",
              "      display:flex;\n",
              "      flex-wrap:wrap;\n",
              "      gap: 12px;\n",
              "    }\n",
              "\n",
              "    .colab-df-convert {\n",
              "      background-color: #E8F0FE;\n",
              "      border: none;\n",
              "      border-radius: 50%;\n",
              "      cursor: pointer;\n",
              "      display: none;\n",
              "      fill: #1967D2;\n",
              "      height: 32px;\n",
              "      padding: 0 0 0 0;\n",
              "      width: 32px;\n",
              "    }\n",
              "\n",
              "    .colab-df-convert:hover {\n",
              "      background-color: #E2EBFA;\n",
              "      box-shadow: 0px 1px 2px rgba(60, 64, 67, 0.3), 0px 1px 3px 1px rgba(60, 64, 67, 0.15);\n",
              "      fill: #174EA6;\n",
              "    }\n",
              "\n",
              "    [theme=dark] .colab-df-convert {\n",
              "      background-color: #3B4455;\n",
              "      fill: #D2E3FC;\n",
              "    }\n",
              "\n",
              "    [theme=dark] .colab-df-convert:hover {\n",
              "      background-color: #434B5C;\n",
              "      box-shadow: 0px 1px 3px 1px rgba(0, 0, 0, 0.15);\n",
              "      filter: drop-shadow(0px 1px 2px rgba(0, 0, 0, 0.3));\n",
              "      fill: #FFFFFF;\n",
              "    }\n",
              "  </style>\n",
              "\n",
              "      <script>\n",
              "        const buttonEl =\n",
              "          document.querySelector('#df-5d67e430-32c4-4410-b874-dfac597aa6a5 button.colab-df-convert');\n",
              "        buttonEl.style.display =\n",
              "          google.colab.kernel.accessAllowed ? 'block' : 'none';\n",
              "\n",
              "        async function convertToInteractive(key) {\n",
              "          const element = document.querySelector('#df-5d67e430-32c4-4410-b874-dfac597aa6a5');\n",
              "          const dataTable =\n",
              "            await google.colab.kernel.invokeFunction('convertToInteractive',\n",
              "                                                     [key], {});\n",
              "          if (!dataTable) return;\n",
              "\n",
              "          const docLinkHtml = 'Like what you see? Visit the ' +\n",
              "            '<a target=\"_blank\" href=https://colab.research.google.com/notebooks/data_table.ipynb>data table notebook</a>'\n",
              "            + ' to learn more about interactive tables.';\n",
              "          element.innerHTML = '';\n",
              "          dataTable['output_type'] = 'display_data';\n",
              "          await google.colab.output.renderOutput(dataTable, element);\n",
              "          const docLink = document.createElement('div');\n",
              "          docLink.innerHTML = docLinkHtml;\n",
              "          element.appendChild(docLink);\n",
              "        }\n",
              "      </script>\n",
              "    </div>\n",
              "  </div>\n",
              "  "
            ]
          },
          "metadata": {},
          "execution_count": 60
        }
      ],
      "source": [
        "data.head() "
      ]
    },
    {
      "cell_type": "markdown",
      "metadata": {
        "id": "UqSYZZH6Bwfh"
      },
      "source": [
        "**Note:** You do not need to standardize data for this question. "
      ]
    },
    {
      "cell_type": "markdown",
      "metadata": {
        "id": "orhex-OXhkgV"
      },
      "source": [
        "\n",
        "**TODO 1**\n",
        "\n",
        "Prevent collinearity by removing linearly dependent variables. \n",
        "\n",
        "For example, if 2 variables A and B have a correlation coefficient larger than 0.9, eliminate one to avoid redundency."
      ]
    },
    {
      "cell_type": "code",
      "execution_count": 61,
      "metadata": {
        "id": "HciIg1g4jE_a",
        "colab": {
          "base_uri": "https://localhost:8080/",
          "height": 81
        },
        "outputId": "1c31abe2-0c60-4121-b3de-b8af0e29f9ea"
      },
      "outputs": [
        {
          "output_type": "execute_result",
          "data": {
            "text/plain": [
              "         corr_value\n",
              "rad tax        0.91"
            ],
            "text/html": [
              "\n",
              "  <div id=\"df-facbdef2-896d-4873-9555-918111d59361\">\n",
              "    <div class=\"colab-df-container\">\n",
              "      <div>\n",
              "<style scoped>\n",
              "    .dataframe tbody tr th:only-of-type {\n",
              "        vertical-align: middle;\n",
              "    }\n",
              "\n",
              "    .dataframe tbody tr th {\n",
              "        vertical-align: top;\n",
              "    }\n",
              "\n",
              "    .dataframe thead th {\n",
              "        text-align: right;\n",
              "    }\n",
              "</style>\n",
              "<table border=\"1\" class=\"dataframe\">\n",
              "  <thead>\n",
              "    <tr style=\"text-align: right;\">\n",
              "      <th></th>\n",
              "      <th></th>\n",
              "      <th>corr_value</th>\n",
              "    </tr>\n",
              "  </thead>\n",
              "  <tbody>\n",
              "    <tr>\n",
              "      <th>rad</th>\n",
              "      <th>tax</th>\n",
              "      <td>0.91</td>\n",
              "    </tr>\n",
              "  </tbody>\n",
              "</table>\n",
              "</div>\n",
              "      <button class=\"colab-df-convert\" onclick=\"convertToInteractive('df-facbdef2-896d-4873-9555-918111d59361')\"\n",
              "              title=\"Convert this dataframe to an interactive table.\"\n",
              "              style=\"display:none;\">\n",
              "        \n",
              "  <svg xmlns=\"http://www.w3.org/2000/svg\" height=\"24px\"viewBox=\"0 0 24 24\"\n",
              "       width=\"24px\">\n",
              "    <path d=\"M0 0h24v24H0V0z\" fill=\"none\"/>\n",
              "    <path d=\"M18.56 5.44l.94 2.06.94-2.06 2.06-.94-2.06-.94-.94-2.06-.94 2.06-2.06.94zm-11 1L8.5 8.5l.94-2.06 2.06-.94-2.06-.94L8.5 2.5l-.94 2.06-2.06.94zm10 10l.94 2.06.94-2.06 2.06-.94-2.06-.94-.94-2.06-.94 2.06-2.06.94z\"/><path d=\"M17.41 7.96l-1.37-1.37c-.4-.4-.92-.59-1.43-.59-.52 0-1.04.2-1.43.59L10.3 9.45l-7.72 7.72c-.78.78-.78 2.05 0 2.83L4 21.41c.39.39.9.59 1.41.59.51 0 1.02-.2 1.41-.59l7.78-7.78 2.81-2.81c.8-.78.8-2.07 0-2.86zM5.41 20L4 18.59l7.72-7.72 1.47 1.35L5.41 20z\"/>\n",
              "  </svg>\n",
              "      </button>\n",
              "      \n",
              "  <style>\n",
              "    .colab-df-container {\n",
              "      display:flex;\n",
              "      flex-wrap:wrap;\n",
              "      gap: 12px;\n",
              "    }\n",
              "\n",
              "    .colab-df-convert {\n",
              "      background-color: #E8F0FE;\n",
              "      border: none;\n",
              "      border-radius: 50%;\n",
              "      cursor: pointer;\n",
              "      display: none;\n",
              "      fill: #1967D2;\n",
              "      height: 32px;\n",
              "      padding: 0 0 0 0;\n",
              "      width: 32px;\n",
              "    }\n",
              "\n",
              "    .colab-df-convert:hover {\n",
              "      background-color: #E2EBFA;\n",
              "      box-shadow: 0px 1px 2px rgba(60, 64, 67, 0.3), 0px 1px 3px 1px rgba(60, 64, 67, 0.15);\n",
              "      fill: #174EA6;\n",
              "    }\n",
              "\n",
              "    [theme=dark] .colab-df-convert {\n",
              "      background-color: #3B4455;\n",
              "      fill: #D2E3FC;\n",
              "    }\n",
              "\n",
              "    [theme=dark] .colab-df-convert:hover {\n",
              "      background-color: #434B5C;\n",
              "      box-shadow: 0px 1px 3px 1px rgba(0, 0, 0, 0.15);\n",
              "      filter: drop-shadow(0px 1px 2px rgba(0, 0, 0, 0.3));\n",
              "      fill: #FFFFFF;\n",
              "    }\n",
              "  </style>\n",
              "\n",
              "      <script>\n",
              "        const buttonEl =\n",
              "          document.querySelector('#df-facbdef2-896d-4873-9555-918111d59361 button.colab-df-convert');\n",
              "        buttonEl.style.display =\n",
              "          google.colab.kernel.accessAllowed ? 'block' : 'none';\n",
              "\n",
              "        async function convertToInteractive(key) {\n",
              "          const element = document.querySelector('#df-facbdef2-896d-4873-9555-918111d59361');\n",
              "          const dataTable =\n",
              "            await google.colab.kernel.invokeFunction('convertToInteractive',\n",
              "                                                     [key], {});\n",
              "          if (!dataTable) return;\n",
              "\n",
              "          const docLinkHtml = 'Like what you see? Visit the ' +\n",
              "            '<a target=\"_blank\" href=https://colab.research.google.com/notebooks/data_table.ipynb>data table notebook</a>'\n",
              "            + ' to learn more about interactive tables.';\n",
              "          element.innerHTML = '';\n",
              "          dataTable['output_type'] = 'display_data';\n",
              "          await google.colab.output.renderOutput(dataTable, element);\n",
              "          const docLink = document.createElement('div');\n",
              "          docLink.innerHTML = docLinkHtml;\n",
              "          element.appendChild(docLink);\n",
              "        }\n",
              "      </script>\n",
              "    </div>\n",
              "  </div>\n",
              "  "
            ]
          },
          "metadata": {},
          "execution_count": 61
        }
      ],
      "source": [
        "X.drop(\"medv\", axis = 1, inplace = True)\n",
        "X.head()\n",
        "\n",
        "# Obtaining the correlation matrix for the data\n",
        "corr_matrix = round(X.corr(), 2)\n",
        "corr_matrix\n",
        "# Obtaining the pair of features having correlation coefficient greater than 0.9\n",
        "corr_stacked = pd.DataFrame(corr_matrix.unstack().sort_values().drop_duplicates())\n",
        "corr_stacked.rename(columns = {0 : 'corr_value'}, inplace = True)\n",
        "df_corr = corr_stacked[(abs(corr_stacked.corr_value) > 0.9) & (corr_stacked.corr_value != 1)]\n",
        "df_corr"
      ]
    },
    {
      "cell_type": "markdown",
      "metadata": {
        "id": "kARkGcfnjCF8"
      },
      "source": [
        "\n",
        "**TODO 2**\n",
        "\n",
        "Partition the data into 75% training and 25% validation set."
      ]
    },
    {
      "cell_type": "code",
      "execution_count": 62,
      "metadata": {
        "id": "FxBLE5pzOe1q"
      },
      "outputs": [],
      "source": [
        "#from sklearn.model_selection import\n",
        "from sklearn.model_selection import train_test_split\n",
        "X_train, X_test, y_train, y_test = train_test_split(X, y, test_size=0.25, random_state=42)"
      ]
    },
    {
      "cell_type": "markdown",
      "metadata": {
        "id": "fJqs4RnZjd-n"
      },
      "source": [
        "\n",
        "**TODO 3**\n",
        "\n",
        "If we fit a linear regression model on the training set, what will be the feature weights? \n",
        "\n",
        "Calculate the feature weights using the matrix form (do not use any built-in packages such as sklearn or stat models)."
      ]
    },
    {
      "cell_type": "code",
      "execution_count": 63,
      "metadata": {
        "id": "yTkjKMyXkP5C",
        "colab": {
          "base_uri": "https://localhost:8080/",
          "height": 457
        },
        "outputId": "aae678ef-386f-415a-cd97-f45667b1227c"
      },
      "outputs": [
        {
          "output_type": "execute_result",
          "data": {
            "text/plain": [
              "         feature_weights\n",
              "crim           -0.116699\n",
              "zn              0.034217\n",
              "indus           0.043277\n",
              "chas            2.731438\n",
              "nox            -4.128568\n",
              "rm              6.074986\n",
              "age            -0.013877\n",
              "dis            -0.969289\n",
              "rad             0.137587\n",
              "tax            -0.007329\n",
              "ptratio        -0.464975\n",
              "b               0.017687\n",
              "lstat          -0.439612"
            ],
            "text/html": [
              "\n",
              "  <div id=\"df-fd46de71-0549-42f7-9399-53cf74aba99e\">\n",
              "    <div class=\"colab-df-container\">\n",
              "      <div>\n",
              "<style scoped>\n",
              "    .dataframe tbody tr th:only-of-type {\n",
              "        vertical-align: middle;\n",
              "    }\n",
              "\n",
              "    .dataframe tbody tr th {\n",
              "        vertical-align: top;\n",
              "    }\n",
              "\n",
              "    .dataframe thead th {\n",
              "        text-align: right;\n",
              "    }\n",
              "</style>\n",
              "<table border=\"1\" class=\"dataframe\">\n",
              "  <thead>\n",
              "    <tr style=\"text-align: right;\">\n",
              "      <th></th>\n",
              "      <th>feature_weights</th>\n",
              "    </tr>\n",
              "  </thead>\n",
              "  <tbody>\n",
              "    <tr>\n",
              "      <th>crim</th>\n",
              "      <td>-0.116699</td>\n",
              "    </tr>\n",
              "    <tr>\n",
              "      <th>zn</th>\n",
              "      <td>0.034217</td>\n",
              "    </tr>\n",
              "    <tr>\n",
              "      <th>indus</th>\n",
              "      <td>0.043277</td>\n",
              "    </tr>\n",
              "    <tr>\n",
              "      <th>chas</th>\n",
              "      <td>2.731438</td>\n",
              "    </tr>\n",
              "    <tr>\n",
              "      <th>nox</th>\n",
              "      <td>-4.128568</td>\n",
              "    </tr>\n",
              "    <tr>\n",
              "      <th>rm</th>\n",
              "      <td>6.074986</td>\n",
              "    </tr>\n",
              "    <tr>\n",
              "      <th>age</th>\n",
              "      <td>-0.013877</td>\n",
              "    </tr>\n",
              "    <tr>\n",
              "      <th>dis</th>\n",
              "      <td>-0.969289</td>\n",
              "    </tr>\n",
              "    <tr>\n",
              "      <th>rad</th>\n",
              "      <td>0.137587</td>\n",
              "    </tr>\n",
              "    <tr>\n",
              "      <th>tax</th>\n",
              "      <td>-0.007329</td>\n",
              "    </tr>\n",
              "    <tr>\n",
              "      <th>ptratio</th>\n",
              "      <td>-0.464975</td>\n",
              "    </tr>\n",
              "    <tr>\n",
              "      <th>b</th>\n",
              "      <td>0.017687</td>\n",
              "    </tr>\n",
              "    <tr>\n",
              "      <th>lstat</th>\n",
              "      <td>-0.439612</td>\n",
              "    </tr>\n",
              "  </tbody>\n",
              "</table>\n",
              "</div>\n",
              "      <button class=\"colab-df-convert\" onclick=\"convertToInteractive('df-fd46de71-0549-42f7-9399-53cf74aba99e')\"\n",
              "              title=\"Convert this dataframe to an interactive table.\"\n",
              "              style=\"display:none;\">\n",
              "        \n",
              "  <svg xmlns=\"http://www.w3.org/2000/svg\" height=\"24px\"viewBox=\"0 0 24 24\"\n",
              "       width=\"24px\">\n",
              "    <path d=\"M0 0h24v24H0V0z\" fill=\"none\"/>\n",
              "    <path d=\"M18.56 5.44l.94 2.06.94-2.06 2.06-.94-2.06-.94-.94-2.06-.94 2.06-2.06.94zm-11 1L8.5 8.5l.94-2.06 2.06-.94-2.06-.94L8.5 2.5l-.94 2.06-2.06.94zm10 10l.94 2.06.94-2.06 2.06-.94-2.06-.94-.94-2.06-.94 2.06-2.06.94z\"/><path d=\"M17.41 7.96l-1.37-1.37c-.4-.4-.92-.59-1.43-.59-.52 0-1.04.2-1.43.59L10.3 9.45l-7.72 7.72c-.78.78-.78 2.05 0 2.83L4 21.41c.39.39.9.59 1.41.59.51 0 1.02-.2 1.41-.59l7.78-7.78 2.81-2.81c.8-.78.8-2.07 0-2.86zM5.41 20L4 18.59l7.72-7.72 1.47 1.35L5.41 20z\"/>\n",
              "  </svg>\n",
              "      </button>\n",
              "      \n",
              "  <style>\n",
              "    .colab-df-container {\n",
              "      display:flex;\n",
              "      flex-wrap:wrap;\n",
              "      gap: 12px;\n",
              "    }\n",
              "\n",
              "    .colab-df-convert {\n",
              "      background-color: #E8F0FE;\n",
              "      border: none;\n",
              "      border-radius: 50%;\n",
              "      cursor: pointer;\n",
              "      display: none;\n",
              "      fill: #1967D2;\n",
              "      height: 32px;\n",
              "      padding: 0 0 0 0;\n",
              "      width: 32px;\n",
              "    }\n",
              "\n",
              "    .colab-df-convert:hover {\n",
              "      background-color: #E2EBFA;\n",
              "      box-shadow: 0px 1px 2px rgba(60, 64, 67, 0.3), 0px 1px 3px 1px rgba(60, 64, 67, 0.15);\n",
              "      fill: #174EA6;\n",
              "    }\n",
              "\n",
              "    [theme=dark] .colab-df-convert {\n",
              "      background-color: #3B4455;\n",
              "      fill: #D2E3FC;\n",
              "    }\n",
              "\n",
              "    [theme=dark] .colab-df-convert:hover {\n",
              "      background-color: #434B5C;\n",
              "      box-shadow: 0px 1px 3px 1px rgba(0, 0, 0, 0.15);\n",
              "      filter: drop-shadow(0px 1px 2px rgba(0, 0, 0, 0.3));\n",
              "      fill: #FFFFFF;\n",
              "    }\n",
              "  </style>\n",
              "\n",
              "      <script>\n",
              "        const buttonEl =\n",
              "          document.querySelector('#df-fd46de71-0549-42f7-9399-53cf74aba99e button.colab-df-convert');\n",
              "        buttonEl.style.display =\n",
              "          google.colab.kernel.accessAllowed ? 'block' : 'none';\n",
              "\n",
              "        async function convertToInteractive(key) {\n",
              "          const element = document.querySelector('#df-fd46de71-0549-42f7-9399-53cf74aba99e');\n",
              "          const dataTable =\n",
              "            await google.colab.kernel.invokeFunction('convertToInteractive',\n",
              "                                                     [key], {});\n",
              "          if (!dataTable) return;\n",
              "\n",
              "          const docLinkHtml = 'Like what you see? Visit the ' +\n",
              "            '<a target=\"_blank\" href=https://colab.research.google.com/notebooks/data_table.ipynb>data table notebook</a>'\n",
              "            + ' to learn more about interactive tables.';\n",
              "          element.innerHTML = '';\n",
              "          dataTable['output_type'] = 'display_data';\n",
              "          await google.colab.output.renderOutput(dataTable, element);\n",
              "          const docLink = document.createElement('div');\n",
              "          docLink.innerHTML = docLinkHtml;\n",
              "          element.appendChild(docLink);\n",
              "        }\n",
              "      </script>\n",
              "    </div>\n",
              "  </div>\n",
              "  "
            ]
          },
          "metadata": {},
          "execution_count": 63
        }
      ],
      "source": [
        "# converting dataFrame to numpy array\n",
        "x_toarray = X_train.to_numpy()\n",
        "# calculate beta_hat using the formulae below\n",
        "# ([X(transpose).X]^(-1)).(X(tranpose).y)\n",
        "beta_hat = np.linalg.inv(x_toarray.T.dot(x_toarray)).dot(x_toarray.T).dot(y_train)\n",
        "beta_hat = pd.DataFrame(beta_hat, index = X_train.columns,\n",
        "columns = {\"feature_weights\"})\n",
        "beta_hat"
      ]
    },
    {
      "cell_type": "markdown",
      "metadata": {
        "id": "tOKKKL7OkSJk"
      },
      "source": [
        "\n",
        "**TODO 4**\n",
        "\n",
        "Now only consider two input variables: Age and RM.\n",
        "\n",
        "Fit a linear regression model on the training set with a package at your choice. \n",
        "\n",
        "Present the model summary. We call this model **Model 1**."
      ]
    },
    {
      "cell_type": "code",
      "execution_count": 64,
      "metadata": {
        "id": "mb9lrptHlXZx",
        "colab": {
          "base_uri": "https://localhost:8080/",
          "height": 0
        },
        "outputId": "fe850ee0-a2eb-44f6-8bfd-0d158cd2059d"
      },
      "outputs": [
        {
          "output_type": "stream",
          "name": "stdout",
          "text": [
            "Intercept of Model 1 = -27.58753582438522\n",
            "Coefficients of Model 1 = \n",
            "     Coefficients\n",
            "age     -0.067594\n",
            "rm       8.724504\n"
          ]
        }
      ],
      "source": [
        "from sklearn.linear_model import LinearRegression\n",
        "# Selecting input variables Age and RM for Model 1\n",
        "X_train_model_1 = X_train[['age', 'rm']]\n",
        "y_train_model_1 = y_train\n",
        "X_test_model_1 = X_test[['age', 'rm']]\n",
        "y_test_model_1 = y_test\n",
        "# Apply linear regression from scikit-learn\n",
        "LR_model = LinearRegression()\n",
        "# Fitting the training data\n",
        "LR_model.fit(X_train_model_1, y_train_model_1)\n",
        "coeff_model_1 = pd.DataFrame(LR_model.coef_, index = [\"age\", \"rm\"],\n",
        "columns = {\"Coefficients\"})\n",
        "coeff_model_1\n",
        "# Summary of the fitted model\n",
        "print(\"Intercept of Model 1 = \" + str(LR_model.intercept_) + \"\\nCoefficients of Model 1 = \")\n",
        "print(coeff_model_1)"
      ]
    },
    {
      "cell_type": "markdown",
      "metadata": {
        "id": "b_JTWrEDlFPU"
      },
      "source": [
        "\n",
        "**TODO 5**\n",
        "\n",
        "Evaluate the prediction performance of Model 1 on the validation set with RMSE and MAE as performance matrics."
      ]
    },
    {
      "cell_type": "code",
      "execution_count": 65,
      "metadata": {
        "id": "716o2-CflX_1",
        "colab": {
          "base_uri": "https://localhost:8080/",
          "height": 81
        },
        "outputId": "7f72a1a6-0d2c-4483-af1e-65e29a578456"
      },
      "outputs": [
        {
          "output_type": "execute_result",
          "data": {
            "text/plain": [
              "               MSE      RMSE       MAE  R2 Score\n",
              "Model_1  37.110801  6.091863  3.923973  0.470051"
            ],
            "text/html": [
              "\n",
              "  <div id=\"df-f4d9a899-d9a9-48ca-a91d-732fb8d7e9c9\">\n",
              "    <div class=\"colab-df-container\">\n",
              "      <div>\n",
              "<style scoped>\n",
              "    .dataframe tbody tr th:only-of-type {\n",
              "        vertical-align: middle;\n",
              "    }\n",
              "\n",
              "    .dataframe tbody tr th {\n",
              "        vertical-align: top;\n",
              "    }\n",
              "\n",
              "    .dataframe thead th {\n",
              "        text-align: right;\n",
              "    }\n",
              "</style>\n",
              "<table border=\"1\" class=\"dataframe\">\n",
              "  <thead>\n",
              "    <tr style=\"text-align: right;\">\n",
              "      <th></th>\n",
              "      <th>MSE</th>\n",
              "      <th>RMSE</th>\n",
              "      <th>MAE</th>\n",
              "      <th>R2 Score</th>\n",
              "    </tr>\n",
              "  </thead>\n",
              "  <tbody>\n",
              "    <tr>\n",
              "      <th>Model_1</th>\n",
              "      <td>37.110801</td>\n",
              "      <td>6.091863</td>\n",
              "      <td>3.923973</td>\n",
              "      <td>0.470051</td>\n",
              "    </tr>\n",
              "  </tbody>\n",
              "</table>\n",
              "</div>\n",
              "      <button class=\"colab-df-convert\" onclick=\"convertToInteractive('df-f4d9a899-d9a9-48ca-a91d-732fb8d7e9c9')\"\n",
              "              title=\"Convert this dataframe to an interactive table.\"\n",
              "              style=\"display:none;\">\n",
              "        \n",
              "  <svg xmlns=\"http://www.w3.org/2000/svg\" height=\"24px\"viewBox=\"0 0 24 24\"\n",
              "       width=\"24px\">\n",
              "    <path d=\"M0 0h24v24H0V0z\" fill=\"none\"/>\n",
              "    <path d=\"M18.56 5.44l.94 2.06.94-2.06 2.06-.94-2.06-.94-.94-2.06-.94 2.06-2.06.94zm-11 1L8.5 8.5l.94-2.06 2.06-.94-2.06-.94L8.5 2.5l-.94 2.06-2.06.94zm10 10l.94 2.06.94-2.06 2.06-.94-2.06-.94-.94-2.06-.94 2.06-2.06.94z\"/><path d=\"M17.41 7.96l-1.37-1.37c-.4-.4-.92-.59-1.43-.59-.52 0-1.04.2-1.43.59L10.3 9.45l-7.72 7.72c-.78.78-.78 2.05 0 2.83L4 21.41c.39.39.9.59 1.41.59.51 0 1.02-.2 1.41-.59l7.78-7.78 2.81-2.81c.8-.78.8-2.07 0-2.86zM5.41 20L4 18.59l7.72-7.72 1.47 1.35L5.41 20z\"/>\n",
              "  </svg>\n",
              "      </button>\n",
              "      \n",
              "  <style>\n",
              "    .colab-df-container {\n",
              "      display:flex;\n",
              "      flex-wrap:wrap;\n",
              "      gap: 12px;\n",
              "    }\n",
              "\n",
              "    .colab-df-convert {\n",
              "      background-color: #E8F0FE;\n",
              "      border: none;\n",
              "      border-radius: 50%;\n",
              "      cursor: pointer;\n",
              "      display: none;\n",
              "      fill: #1967D2;\n",
              "      height: 32px;\n",
              "      padding: 0 0 0 0;\n",
              "      width: 32px;\n",
              "    }\n",
              "\n",
              "    .colab-df-convert:hover {\n",
              "      background-color: #E2EBFA;\n",
              "      box-shadow: 0px 1px 2px rgba(60, 64, 67, 0.3), 0px 1px 3px 1px rgba(60, 64, 67, 0.15);\n",
              "      fill: #174EA6;\n",
              "    }\n",
              "\n",
              "    [theme=dark] .colab-df-convert {\n",
              "      background-color: #3B4455;\n",
              "      fill: #D2E3FC;\n",
              "    }\n",
              "\n",
              "    [theme=dark] .colab-df-convert:hover {\n",
              "      background-color: #434B5C;\n",
              "      box-shadow: 0px 1px 3px 1px rgba(0, 0, 0, 0.15);\n",
              "      filter: drop-shadow(0px 1px 2px rgba(0, 0, 0, 0.3));\n",
              "      fill: #FFFFFF;\n",
              "    }\n",
              "  </style>\n",
              "\n",
              "      <script>\n",
              "        const buttonEl =\n",
              "          document.querySelector('#df-f4d9a899-d9a9-48ca-a91d-732fb8d7e9c9 button.colab-df-convert');\n",
              "        buttonEl.style.display =\n",
              "          google.colab.kernel.accessAllowed ? 'block' : 'none';\n",
              "\n",
              "        async function convertToInteractive(key) {\n",
              "          const element = document.querySelector('#df-f4d9a899-d9a9-48ca-a91d-732fb8d7e9c9');\n",
              "          const dataTable =\n",
              "            await google.colab.kernel.invokeFunction('convertToInteractive',\n",
              "                                                     [key], {});\n",
              "          if (!dataTable) return;\n",
              "\n",
              "          const docLinkHtml = 'Like what you see? Visit the ' +\n",
              "            '<a target=\"_blank\" href=https://colab.research.google.com/notebooks/data_table.ipynb>data table notebook</a>'\n",
              "            + ' to learn more about interactive tables.';\n",
              "          element.innerHTML = '';\n",
              "          dataTable['output_type'] = 'display_data';\n",
              "          await google.colab.output.renderOutput(dataTable, element);\n",
              "          const docLink = document.createElement('div');\n",
              "          docLink.innerHTML = docLinkHtml;\n",
              "          element.appendChild(docLink);\n",
              "        }\n",
              "      </script>\n",
              "    </div>\n",
              "  </div>\n",
              "  "
            ]
          },
          "metadata": {},
          "execution_count": 65
        }
      ],
      "source": [
        "import sklearn.metrics as metrics\n",
        "# Make predictions for Model 1\n",
        "predict_model_1 = LR_model.predict(X_test_model_1)\n",
        "# Calculate error in predictions\n",
        "error_model_1 = predict_model_1 - y_test_model_1\n",
        "# Model 1 - actual, predicted and residual\n",
        "model_1 = pd.DataFrame({\"Actual\": y_test_model_1, \"Predicted\": predict_model_1, \"Residual\": error_model_1})\n",
        "model_1\n",
        "# Calculate RMSE and MAE using sklearn.metrics\n",
        "mse_model_1 = metrics.mean_squared_error(y_test_model_1, predict_model_1)\n",
        "rmse_model_1 = np.sqrt(mse_model_1)\n",
        "mae_model_1 = metrics.mean_absolute_error(y_test_model_1, predict_model_1)\n",
        "r2_model_1 = metrics.r2_score(y_test_model_1, predict_model_1)\n",
        "performance_model_1 = pd.Series({\"MSE\" : mse_model_1, \"RMSE\" : rmse_model_1, \"MAE\" : mae_model_1, \"R2 Score\" : r2_model_1})\n",
        "performance_model_1 = pd.DataFrame(performance_model_1).T\n",
        "performance_model_1.index = [\"Model_1\"]\n",
        "performance_model_1"
      ]
    },
    {
      "cell_type": "markdown",
      "metadata": {
        "id": "-SVtXdBBlaF4"
      },
      "source": [
        "\n",
        "**TODO 6**\n",
        "\n",
        "Now consider all the features (after removing linearly dependent variables (post completion of TODO1)). \n",
        "\n",
        "Fit a linear regression model on the training set with a package at your choice. Present the model summary. \n",
        "\n",
        "We call this model **Model 2**."
      ]
    },
    {
      "cell_type": "code",
      "execution_count": 66,
      "metadata": {
        "id": "IQsEcHVNl9Rj",
        "colab": {
          "base_uri": "https://localhost:8080/",
          "height": 0
        },
        "outputId": "f4e25576-39e5-43f3-f547-130a2774016c"
      },
      "outputs": [
        {
          "output_type": "stream",
          "name": "stdout",
          "text": [
            "Intercept of Model 2 = 29.83642016383875\n",
            "Coefficients of Model 2 = \n",
            "         Coefficients\n",
            "crim        -0.128323\n",
            "zn           0.029552\n",
            "indus        0.048859\n",
            "chas         2.773503\n",
            "nox        -16.238829\n",
            "rm           4.368755\n",
            "age         -0.009248\n",
            "dis         -1.400867\n",
            "rad          0.257761\n",
            "tax         -0.009957\n",
            "ptratio     -0.923123\n",
            "b            0.013185\n",
            "lstat       -0.517640\n"
          ]
        }
      ],
      "source": [
        "# Using all features (after removing linearly dependent variables) for Model 2\n",
        "XTrainModel_2 = X_train\n",
        "yTrainModel_2 = y_train\n",
        "XTestModel_2 = X_test\n",
        "yTestModel_2 = y_test\n",
        "# Apply linear regression from scikit-learn\n",
        "LR_model_2 = LinearRegression()\n",
        "# Fitting the training data\n",
        "LR_model_2.fit(XTrainModel_2,yTrainModel_2 )\n",
        "coeff_model_2 = pd.DataFrame(LR_model_2.coef_, index = X.columns,\n",
        "columns = {\"Coefficients\"})\n",
        "coeff_model_2\n",
        "# Summary of the fitted model\n",
        "print(\"Intercept of Model 2 = \" + str(LR_model_2.intercept_) + \"\\nCoefficients of Model 2 = \")\n",
        "print(coeff_model_2)"
      ]
    },
    {
      "cell_type": "markdown",
      "metadata": {
        "id": "eqscMSkwl8wU"
      },
      "source": [
        "\n",
        "**TODO 7**\n",
        "\n",
        "Evaluate the prediction performance of Model 2 on the validation set with RMSE and MAE as performance matrics."
      ]
    },
    {
      "cell_type": "code",
      "execution_count": 67,
      "metadata": {
        "id": "q2dbIQ1NmDzh",
        "colab": {
          "base_uri": "https://localhost:8080/",
          "height": 81
        },
        "outputId": "44e776b8-5608-4575-9c39-841ac2a148c7"
      },
      "outputs": [
        {
          "output_type": "execute_result",
          "data": {
            "text/plain": [
              "               MSE      RMSE      MAE  R2 Score\n",
              "Model_2  22.098695  4.700925  3.06094  0.684427"
            ],
            "text/html": [
              "\n",
              "  <div id=\"df-037dc8f0-fa8a-4534-8b7e-1a7c66692ce5\">\n",
              "    <div class=\"colab-df-container\">\n",
              "      <div>\n",
              "<style scoped>\n",
              "    .dataframe tbody tr th:only-of-type {\n",
              "        vertical-align: middle;\n",
              "    }\n",
              "\n",
              "    .dataframe tbody tr th {\n",
              "        vertical-align: top;\n",
              "    }\n",
              "\n",
              "    .dataframe thead th {\n",
              "        text-align: right;\n",
              "    }\n",
              "</style>\n",
              "<table border=\"1\" class=\"dataframe\">\n",
              "  <thead>\n",
              "    <tr style=\"text-align: right;\">\n",
              "      <th></th>\n",
              "      <th>MSE</th>\n",
              "      <th>RMSE</th>\n",
              "      <th>MAE</th>\n",
              "      <th>R2 Score</th>\n",
              "    </tr>\n",
              "  </thead>\n",
              "  <tbody>\n",
              "    <tr>\n",
              "      <th>Model_2</th>\n",
              "      <td>22.098695</td>\n",
              "      <td>4.700925</td>\n",
              "      <td>3.06094</td>\n",
              "      <td>0.684427</td>\n",
              "    </tr>\n",
              "  </tbody>\n",
              "</table>\n",
              "</div>\n",
              "      <button class=\"colab-df-convert\" onclick=\"convertToInteractive('df-037dc8f0-fa8a-4534-8b7e-1a7c66692ce5')\"\n",
              "              title=\"Convert this dataframe to an interactive table.\"\n",
              "              style=\"display:none;\">\n",
              "        \n",
              "  <svg xmlns=\"http://www.w3.org/2000/svg\" height=\"24px\"viewBox=\"0 0 24 24\"\n",
              "       width=\"24px\">\n",
              "    <path d=\"M0 0h24v24H0V0z\" fill=\"none\"/>\n",
              "    <path d=\"M18.56 5.44l.94 2.06.94-2.06 2.06-.94-2.06-.94-.94-2.06-.94 2.06-2.06.94zm-11 1L8.5 8.5l.94-2.06 2.06-.94-2.06-.94L8.5 2.5l-.94 2.06-2.06.94zm10 10l.94 2.06.94-2.06 2.06-.94-2.06-.94-.94-2.06-.94 2.06-2.06.94z\"/><path d=\"M17.41 7.96l-1.37-1.37c-.4-.4-.92-.59-1.43-.59-.52 0-1.04.2-1.43.59L10.3 9.45l-7.72 7.72c-.78.78-.78 2.05 0 2.83L4 21.41c.39.39.9.59 1.41.59.51 0 1.02-.2 1.41-.59l7.78-7.78 2.81-2.81c.8-.78.8-2.07 0-2.86zM5.41 20L4 18.59l7.72-7.72 1.47 1.35L5.41 20z\"/>\n",
              "  </svg>\n",
              "      </button>\n",
              "      \n",
              "  <style>\n",
              "    .colab-df-container {\n",
              "      display:flex;\n",
              "      flex-wrap:wrap;\n",
              "      gap: 12px;\n",
              "    }\n",
              "\n",
              "    .colab-df-convert {\n",
              "      background-color: #E8F0FE;\n",
              "      border: none;\n",
              "      border-radius: 50%;\n",
              "      cursor: pointer;\n",
              "      display: none;\n",
              "      fill: #1967D2;\n",
              "      height: 32px;\n",
              "      padding: 0 0 0 0;\n",
              "      width: 32px;\n",
              "    }\n",
              "\n",
              "    .colab-df-convert:hover {\n",
              "      background-color: #E2EBFA;\n",
              "      box-shadow: 0px 1px 2px rgba(60, 64, 67, 0.3), 0px 1px 3px 1px rgba(60, 64, 67, 0.15);\n",
              "      fill: #174EA6;\n",
              "    }\n",
              "\n",
              "    [theme=dark] .colab-df-convert {\n",
              "      background-color: #3B4455;\n",
              "      fill: #D2E3FC;\n",
              "    }\n",
              "\n",
              "    [theme=dark] .colab-df-convert:hover {\n",
              "      background-color: #434B5C;\n",
              "      box-shadow: 0px 1px 3px 1px rgba(0, 0, 0, 0.15);\n",
              "      filter: drop-shadow(0px 1px 2px rgba(0, 0, 0, 0.3));\n",
              "      fill: #FFFFFF;\n",
              "    }\n",
              "  </style>\n",
              "\n",
              "      <script>\n",
              "        const buttonEl =\n",
              "          document.querySelector('#df-037dc8f0-fa8a-4534-8b7e-1a7c66692ce5 button.colab-df-convert');\n",
              "        buttonEl.style.display =\n",
              "          google.colab.kernel.accessAllowed ? 'block' : 'none';\n",
              "\n",
              "        async function convertToInteractive(key) {\n",
              "          const element = document.querySelector('#df-037dc8f0-fa8a-4534-8b7e-1a7c66692ce5');\n",
              "          const dataTable =\n",
              "            await google.colab.kernel.invokeFunction('convertToInteractive',\n",
              "                                                     [key], {});\n",
              "          if (!dataTable) return;\n",
              "\n",
              "          const docLinkHtml = 'Like what you see? Visit the ' +\n",
              "            '<a target=\"_blank\" href=https://colab.research.google.com/notebooks/data_table.ipynb>data table notebook</a>'\n",
              "            + ' to learn more about interactive tables.';\n",
              "          element.innerHTML = '';\n",
              "          dataTable['output_type'] = 'display_data';\n",
              "          await google.colab.output.renderOutput(dataTable, element);\n",
              "          const docLink = document.createElement('div');\n",
              "          docLink.innerHTML = docLinkHtml;\n",
              "          element.appendChild(docLink);\n",
              "        }\n",
              "      </script>\n",
              "    </div>\n",
              "  </div>\n",
              "  "
            ]
          },
          "metadata": {},
          "execution_count": 67
        }
      ],
      "source": [
        "# Make predictions for Model 2\n",
        "predict_model_2 = LR_model_2.predict(XTestModel_2)\n",
        "# Calculate error in predictions\n",
        "error_model_2 = predict_model_2 - yTestModel_2\n",
        "# Model 2 - actual, predicted and residual\n",
        "model_2 = pd.DataFrame({\"Actual\": yTestModel_2, \"Predicted\": predict_model_2, \"Residual\": error_model_2})\n",
        "model_2\n",
        "# Calculate RMSE and MAE for Model 2\n",
        "mse_model_2 = metrics.mean_squared_error(yTestModel_2, predict_model_2)\n",
        "rmse_model_2 = np.sqrt(mse_model_2)\n",
        "mae_model_2 = metrics.mean_absolute_error(yTestModel_2, predict_model_2)\n",
        "r2_model_2 = metrics.r2_score(yTestModel_2, predict_model_2)\n",
        "performance_model_2 = pd.Series({\"MSE\" : mse_model_2,\"RMSE\" : rmse_model_2,\"MAE\" : mae_model_2,\"R2 Score\" : r2_model_2})\n",
        "performance_model_2 = pd.DataFrame(performance_model_2).T\n",
        "performance_model_2.index = [\"Model_2\"]\n",
        "performance_model_2"
      ]
    },
    {
      "cell_type": "markdown",
      "metadata": {
        "id": "2ZO2elK5mFtp"
      },
      "source": [
        "\n",
        "**TODO 8**\n",
        "\n",
        "Compare the performance of Model 1 and Model 2. \n",
        "\n",
        "Visualize the prediction error of both models using histogram. \n",
        "\n",
        "Comment on the model fitting."
      ]
    },
    {
      "cell_type": "code",
      "execution_count": 68,
      "metadata": {
        "id": "XtK5KSL5mUY1",
        "colab": {
          "base_uri": "https://localhost:8080/",
          "height": 621
        },
        "outputId": "dee6b648-fbf7-43d0-f25b-a091954fa28e"
      },
      "outputs": [
        {
          "output_type": "display_data",
          "data": {
            "text/plain": [
              "<Figure size 1440x720 with 2 Axes>"
            ],
            "image/png": "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\n"
          },
          "metadata": {
            "needs_background": "light"
          }
        }
      ],
      "source": [
        "compare_model_12 = pd.concat([performance_model_1, performance_model_2])\n",
        "compare_model_12\n",
        "plt.figure(figsize = (20, 10))\n",
        "# Histogram of Residuals of Model 1\n",
        "plt.subplot(121)\n",
        "sns.histplot(model_1.Residual)\n",
        "plt.title(\"Histogram for  Model 1 Residuals\")\n",
        "plt.xlabel(\"Residual of model 1\")\n",
        "plt.ylabel(\"Frequency of model 1\")\n",
        "# Histogram of Residuals of Model 2\n",
        "plt.subplot(122)\n",
        "sns.histplot(model_2.Residual)\n",
        "plt.title(\"Histogram for Model 2 Residuals\")\n",
        "plt.xlabel(\"Residuals of model 2\")\n",
        "plt.ylabel(\"Frequency of model 2\")\n",
        "plt.show()"
      ]
    },
    {
      "cell_type": "markdown",
      "metadata": {
        "id": "mh3dkbjAmd9H"
      },
      "source": [
        "\n",
        "**TODO 9**\n",
        "\n",
        "Now consider all the features (after removing linearly dependent variables). \n",
        "\n",
        "The goal is to fit a LASSO linear regression model on the training set with a package at your choice. \n",
        "\n",
        "Compare the model performance of lambda in the range of [0,1] with the step of 0.01.\n",
        "\n",
        "Plot RMSE versus log(lambda).\n",
        "\n",
        "Pick the appropriate lambda value according to the plot.\n",
        "\n",
        "Present the model summary with the selected lambda. We call this model **Model 3**."
      ]
    },
    {
      "cell_type": "code",
      "execution_count": 69,
      "metadata": {
        "id": "8iKTKHaomrJL",
        "colab": {
          "base_uri": "https://localhost:8080/",
          "height": 714
        },
        "outputId": "32dc83da-c127-4f42-de47-b086d69ac9c4"
      },
      "outputs": [
        {
          "output_type": "stream",
          "name": "stderr",
          "text": [
            "<ipython-input-69-ee9f909ce80b>:20: UserWarning: With alpha=0, this algorithm does not converge well. You are advised to use the LinearRegression estimator\n",
            "  model_lasso.fit(X_train_model_3, y_train_model_3)\n",
            "/usr/local/lib/python3.9/dist-packages/sklearn/linear_model/_coordinate_descent.py:631: UserWarning: Coordinate descent with no regularization may lead to unexpected results and is discouraged.\n",
            "  model = cd_fast.enet_coordinate_descent(\n",
            "/usr/local/lib/python3.9/dist-packages/sklearn/linear_model/_coordinate_descent.py:631: ConvergenceWarning: Objective did not converge. You might want to increase the number of iterations, check the scale of the features or consider increasing regularisation. Duality gap: 4.233e+03, tolerance: 3.361e+00 Linear regression models with null weight for the l1 regularization term are more efficiently fitted using one of the solvers implemented in sklearn.linear_model.Ridge/RidgeCV instead.\n",
            "  model = cd_fast.enet_coordinate_descent(\n"
          ]
        },
        {
          "output_type": "display_data",
          "data": {
            "text/plain": [
              "<Figure size 504x504 with 1 Axes>"
            ],
            "image/png": "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\n"
          },
          "metadata": {
            "needs_background": "light"
          }
        },
        {
          "output_type": "stream",
          "name": "stdout",
          "text": [
            "Intercept of Model 3 = [[29.83642016]] at lambda = [0.]\n",
            "Coefficients of Model 3 = \n",
            "         crim        zn     indus      chas        nox        rm       age  \\\n",
            "0.0 -0.128323  0.029552  0.048859  2.773503 -16.238829  4.368755 -0.009248   \n",
            "\n",
            "          dis       rad       tax   ptratio         b    lstat  \n",
            "0.0 -1.400867  0.257761 -0.009957 -0.923123  0.013185 -0.51764  \n"
          ]
        }
      ],
      "source": [
        "from sklearn.linear_model import Lasso\n",
        "# Using all features (after removing linearly dependent variables) for Model 3\n",
        "X_train_model_3 = X_train\n",
        "y_train_model_3 = y_train\n",
        "X_test_model_3 = X_test\n",
        "y_test_model_3 = y_test\n",
        "# Varying lambda in range [0,1] with step 0.01\n",
        "lambda_values = np.arange(0.0, 1.0, 0.01)\n",
        "model_lasso = Lasso(max_iter = 10000)\n",
        "# Creating empty lists to store coefficients, predicted y and error for each lambda\n",
        "intercept = []\n",
        "coeff = []\n",
        "predict_y = []\n",
        "error = []\n",
        "error = pd.DataFrame(columns = lambda_values)\n",
        "mse_rmse = []\n",
        "# For loop to fit model and predict y for different values of lambda\n",
        "for a in lambda_values:\n",
        "  model_lasso.set_params(alpha = a)\n",
        "  model_lasso.fit(X_train_model_3, y_train_model_3)\n",
        "  # Append each intercept value for each lambda into intercept list\n",
        "  intercept.append(model_lasso.intercept_)\n",
        "  # Append each coefficient value for each lambda into coeff list\n",
        "  coeff.append(model_lasso.coef_)\n",
        "  # Append y values for each lambda into predict_values list\n",
        "  predict_y.append(model_lasso.predict(X_test_model_3))\n",
        "# Storing the intercepts, coefficients and predicted values in dataframes\n",
        "intercept = pd.DataFrame(intercept, index = lambda_values)\n",
        "coeff = pd.DataFrame(coeff, index = lambda_values, columns = X_train_model_3.columns)\n",
        "predict_y = pd.DataFrame(predict_y, index = lambda_values)\n",
        "predict_y = predict_y.transpose()\n",
        "# For loop to calculate mse for each lambda\n",
        "for each_lambda in predict_y.columns:\n",
        "  error[each_lambda] = predict_y[each_lambda] - y_test_model_3\n",
        "  mse_rmse.append(metrics.mean_squared_error(y_test_model_3, predict_y[each_lambda]))\n",
        "\n",
        "mse_rmse = pd.DataFrame(mse_rmse, index = lambda_values, columns = {\"MSE\"})\n",
        "# Calculate RMSE\n",
        "mse_rmse[\"RMSE\"] = np.sqrt(mse_rmse[\"MSE\"])\n",
        "mse_rmse\n",
        "# Plotting RMSE vs log(lambda)\n",
        "plt.figure(figsize = (7, 7))\n",
        "plt.plot(mse_rmse.index, mse_rmse['RMSE'])\n",
        "plt.xscale(\"log\")\n",
        "plt.title(\"RMSE vs log(lambda) plot\", weight = \"bold\")\n",
        "plt.xlabel(\"log(lambda)\")\n",
        "plt.ylabel(\"RMSE\")\n",
        "plt.axhline(mse_rmse.RMSE.min(), linestyle = '--', color = 'r')\n",
        "plt.show()\n",
        "# Determine the optimal lambda (value with least RMSE)\n",
        "optimal_lambda = mse_rmse['RMSE'].idxmin()\n",
        "# Presenting the model summary with the optimal lambda = 0.05\n",
        "coeff_model_3 = coeff[coeff.index == optimal_lambda]\n",
        "intercept_model_3 = intercept[intercept.index == optimal_lambda]\n",
        "print(\"Intercept of Model 3 = \" + str(intercept_model_3.values) + \" at lambda = \" + str(intercept_model_3.index.values))\n",
        "print(\"Coefficients of Model 3 = \")\n",
        "print(coeff_model_3)"
      ]
    },
    {
      "cell_type": "code",
      "source": [
        "optimal_lambda"
      ],
      "metadata": {
        "colab": {
          "base_uri": "https://localhost:8080/",
          "height": 0
        },
        "id": "WpCCSRWmEa9k",
        "outputId": "140b87df-252b-4454-bf87-ecf574c08e07"
      },
      "execution_count": 72,
      "outputs": [
        {
          "output_type": "execute_result",
          "data": {
            "text/plain": [
              "0.0"
            ]
          },
          "metadata": {},
          "execution_count": 72
        }
      ]
    },
    {
      "cell_type": "markdown",
      "metadata": {
        "id": "awGm3NPRmsjN"
      },
      "source": [
        "\n",
        "**TODO 10**\n",
        "\n",
        "Evaluate the prediction performance of Model 3 on the validation set with RMSE and MAE as performance matrics."
      ]
    },
    {
      "cell_type": "code",
      "execution_count": 73,
      "metadata": {
        "id": "M3iFpmebmxDz",
        "colab": {
          "base_uri": "https://localhost:8080/",
          "height": 81
        },
        "outputId": "dda6dd7c-f4ce-4902-f245-f10e3c862033"
      },
      "outputs": [
        {
          "output_type": "execute_result",
          "data": {
            "text/plain": [
              "               MSE      RMSE      MAE  R2 Score\n",
              "Model_3  22.098695  4.700925  3.06094  0.684427"
            ],
            "text/html": [
              "\n",
              "  <div id=\"df-76ce6aa0-384c-4ab6-97b4-7f2213be8ede\">\n",
              "    <div class=\"colab-df-container\">\n",
              "      <div>\n",
              "<style scoped>\n",
              "    .dataframe tbody tr th:only-of-type {\n",
              "        vertical-align: middle;\n",
              "    }\n",
              "\n",
              "    .dataframe tbody tr th {\n",
              "        vertical-align: top;\n",
              "    }\n",
              "\n",
              "    .dataframe thead th {\n",
              "        text-align: right;\n",
              "    }\n",
              "</style>\n",
              "<table border=\"1\" class=\"dataframe\">\n",
              "  <thead>\n",
              "    <tr style=\"text-align: right;\">\n",
              "      <th></th>\n",
              "      <th>MSE</th>\n",
              "      <th>RMSE</th>\n",
              "      <th>MAE</th>\n",
              "      <th>R2 Score</th>\n",
              "    </tr>\n",
              "  </thead>\n",
              "  <tbody>\n",
              "    <tr>\n",
              "      <th>Model_3</th>\n",
              "      <td>22.098695</td>\n",
              "      <td>4.700925</td>\n",
              "      <td>3.06094</td>\n",
              "      <td>0.684427</td>\n",
              "    </tr>\n",
              "  </tbody>\n",
              "</table>\n",
              "</div>\n",
              "      <button class=\"colab-df-convert\" onclick=\"convertToInteractive('df-76ce6aa0-384c-4ab6-97b4-7f2213be8ede')\"\n",
              "              title=\"Convert this dataframe to an interactive table.\"\n",
              "              style=\"display:none;\">\n",
              "        \n",
              "  <svg xmlns=\"http://www.w3.org/2000/svg\" height=\"24px\"viewBox=\"0 0 24 24\"\n",
              "       width=\"24px\">\n",
              "    <path d=\"M0 0h24v24H0V0z\" fill=\"none\"/>\n",
              "    <path d=\"M18.56 5.44l.94 2.06.94-2.06 2.06-.94-2.06-.94-.94-2.06-.94 2.06-2.06.94zm-11 1L8.5 8.5l.94-2.06 2.06-.94-2.06-.94L8.5 2.5l-.94 2.06-2.06.94zm10 10l.94 2.06.94-2.06 2.06-.94-2.06-.94-.94-2.06-.94 2.06-2.06.94z\"/><path d=\"M17.41 7.96l-1.37-1.37c-.4-.4-.92-.59-1.43-.59-.52 0-1.04.2-1.43.59L10.3 9.45l-7.72 7.72c-.78.78-.78 2.05 0 2.83L4 21.41c.39.39.9.59 1.41.59.51 0 1.02-.2 1.41-.59l7.78-7.78 2.81-2.81c.8-.78.8-2.07 0-2.86zM5.41 20L4 18.59l7.72-7.72 1.47 1.35L5.41 20z\"/>\n",
              "  </svg>\n",
              "      </button>\n",
              "      \n",
              "  <style>\n",
              "    .colab-df-container {\n",
              "      display:flex;\n",
              "      flex-wrap:wrap;\n",
              "      gap: 12px;\n",
              "    }\n",
              "\n",
              "    .colab-df-convert {\n",
              "      background-color: #E8F0FE;\n",
              "      border: none;\n",
              "      border-radius: 50%;\n",
              "      cursor: pointer;\n",
              "      display: none;\n",
              "      fill: #1967D2;\n",
              "      height: 32px;\n",
              "      padding: 0 0 0 0;\n",
              "      width: 32px;\n",
              "    }\n",
              "\n",
              "    .colab-df-convert:hover {\n",
              "      background-color: #E2EBFA;\n",
              "      box-shadow: 0px 1px 2px rgba(60, 64, 67, 0.3), 0px 1px 3px 1px rgba(60, 64, 67, 0.15);\n",
              "      fill: #174EA6;\n",
              "    }\n",
              "\n",
              "    [theme=dark] .colab-df-convert {\n",
              "      background-color: #3B4455;\n",
              "      fill: #D2E3FC;\n",
              "    }\n",
              "\n",
              "    [theme=dark] .colab-df-convert:hover {\n",
              "      background-color: #434B5C;\n",
              "      box-shadow: 0px 1px 3px 1px rgba(0, 0, 0, 0.15);\n",
              "      filter: drop-shadow(0px 1px 2px rgba(0, 0, 0, 0.3));\n",
              "      fill: #FFFFFF;\n",
              "    }\n",
              "  </style>\n",
              "\n",
              "      <script>\n",
              "        const buttonEl =\n",
              "          document.querySelector('#df-76ce6aa0-384c-4ab6-97b4-7f2213be8ede button.colab-df-convert');\n",
              "        buttonEl.style.display =\n",
              "          google.colab.kernel.accessAllowed ? 'block' : 'none';\n",
              "\n",
              "        async function convertToInteractive(key) {\n",
              "          const element = document.querySelector('#df-76ce6aa0-384c-4ab6-97b4-7f2213be8ede');\n",
              "          const dataTable =\n",
              "            await google.colab.kernel.invokeFunction('convertToInteractive',\n",
              "                                                     [key], {});\n",
              "          if (!dataTable) return;\n",
              "\n",
              "          const docLinkHtml = 'Like what you see? Visit the ' +\n",
              "            '<a target=\"_blank\" href=https://colab.research.google.com/notebooks/data_table.ipynb>data table notebook</a>'\n",
              "            + ' to learn more about interactive tables.';\n",
              "          element.innerHTML = '';\n",
              "          dataTable['output_type'] = 'display_data';\n",
              "          await google.colab.output.renderOutput(dataTable, element);\n",
              "          const docLink = document.createElement('div');\n",
              "          docLink.innerHTML = docLinkHtml;\n",
              "          element.appendChild(docLink);\n",
              "        }\n",
              "      </script>\n",
              "    </div>\n",
              "  </div>\n",
              "  "
            ]
          },
          "metadata": {},
          "execution_count": 73
        }
      ],
      "source": [
        "# Obtaining the y predicted and error for optimal lambda\n",
        "predict_y_model_3 = predict_y[optimal_lambda]\n",
        "error_model_3 = error[optimal_lambda]\n",
        "# MSE, RMSE, MAE and R2 score of Model 3\n",
        "mse_model_3 = metrics.mean_squared_error(y_test_model_3, predict_y_model_3)\n",
        "rmse_model_3 = np.sqrt(mse_model_2)\n",
        "mae_model_3 = metrics.mean_absolute_error(y_test_model_3, predict_y_model_3)\n",
        "r2_model_3 = metrics.r2_score(y_test_model_3, predict_y_model_3)\n",
        "performance_model_3 = pd.Series({\"MSE\" : mse_model_3, \"RMSE\" : rmse_model_3, \"MAE\" : mae_model_3, \"R2 Score\" : r2_model_3})\n",
        "performance_model_3 = pd.DataFrame(performance_model_3).T\n",
        "performance_model_3.index = [\"Model_3\"]\n",
        "performance_model_3"
      ]
    },
    {
      "cell_type": "markdown",
      "metadata": {
        "id": "OolmJkPgmzet"
      },
      "source": [
        "\n",
        "**TODO 11**\n",
        "\n",
        "Among Model 1, 2, and 3, which one would be your pick for future implementation? State your reasons."
      ]
    },
    {
      "cell_type": "code",
      "execution_count": 74,
      "metadata": {
        "id": "UQbxD3linDY4",
        "colab": {
          "base_uri": "https://localhost:8080/",
          "height": 143
        },
        "outputId": "69125d04-b828-44a6-ff03-cc551ad51b1f"
      },
      "outputs": [
        {
          "output_type": "execute_result",
          "data": {
            "text/plain": [
              "               MSE      RMSE       MAE  R2 Score\n",
              "Model_1  37.110801  6.091863  3.923973  0.470051\n",
              "Model_2  22.098695  4.700925  3.060940  0.684427\n",
              "Model_3  22.098695  4.700925  3.060940  0.684427"
            ],
            "text/html": [
              "\n",
              "  <div id=\"df-e2b31e38-0efa-4b9c-b823-4d3d1e11378c\">\n",
              "    <div class=\"colab-df-container\">\n",
              "      <div>\n",
              "<style scoped>\n",
              "    .dataframe tbody tr th:only-of-type {\n",
              "        vertical-align: middle;\n",
              "    }\n",
              "\n",
              "    .dataframe tbody tr th {\n",
              "        vertical-align: top;\n",
              "    }\n",
              "\n",
              "    .dataframe thead th {\n",
              "        text-align: right;\n",
              "    }\n",
              "</style>\n",
              "<table border=\"1\" class=\"dataframe\">\n",
              "  <thead>\n",
              "    <tr style=\"text-align: right;\">\n",
              "      <th></th>\n",
              "      <th>MSE</th>\n",
              "      <th>RMSE</th>\n",
              "      <th>MAE</th>\n",
              "      <th>R2 Score</th>\n",
              "    </tr>\n",
              "  </thead>\n",
              "  <tbody>\n",
              "    <tr>\n",
              "      <th>Model_1</th>\n",
              "      <td>37.110801</td>\n",
              "      <td>6.091863</td>\n",
              "      <td>3.923973</td>\n",
              "      <td>0.470051</td>\n",
              "    </tr>\n",
              "    <tr>\n",
              "      <th>Model_2</th>\n",
              "      <td>22.098695</td>\n",
              "      <td>4.700925</td>\n",
              "      <td>3.060940</td>\n",
              "      <td>0.684427</td>\n",
              "    </tr>\n",
              "    <tr>\n",
              "      <th>Model_3</th>\n",
              "      <td>22.098695</td>\n",
              "      <td>4.700925</td>\n",
              "      <td>3.060940</td>\n",
              "      <td>0.684427</td>\n",
              "    </tr>\n",
              "  </tbody>\n",
              "</table>\n",
              "</div>\n",
              "      <button class=\"colab-df-convert\" onclick=\"convertToInteractive('df-e2b31e38-0efa-4b9c-b823-4d3d1e11378c')\"\n",
              "              title=\"Convert this dataframe to an interactive table.\"\n",
              "              style=\"display:none;\">\n",
              "        \n",
              "  <svg xmlns=\"http://www.w3.org/2000/svg\" height=\"24px\"viewBox=\"0 0 24 24\"\n",
              "       width=\"24px\">\n",
              "    <path d=\"M0 0h24v24H0V0z\" fill=\"none\"/>\n",
              "    <path d=\"M18.56 5.44l.94 2.06.94-2.06 2.06-.94-2.06-.94-.94-2.06-.94 2.06-2.06.94zm-11 1L8.5 8.5l.94-2.06 2.06-.94-2.06-.94L8.5 2.5l-.94 2.06-2.06.94zm10 10l.94 2.06.94-2.06 2.06-.94-2.06-.94-.94-2.06-.94 2.06-2.06.94z\"/><path d=\"M17.41 7.96l-1.37-1.37c-.4-.4-.92-.59-1.43-.59-.52 0-1.04.2-1.43.59L10.3 9.45l-7.72 7.72c-.78.78-.78 2.05 0 2.83L4 21.41c.39.39.9.59 1.41.59.51 0 1.02-.2 1.41-.59l7.78-7.78 2.81-2.81c.8-.78.8-2.07 0-2.86zM5.41 20L4 18.59l7.72-7.72 1.47 1.35L5.41 20z\"/>\n",
              "  </svg>\n",
              "      </button>\n",
              "      \n",
              "  <style>\n",
              "    .colab-df-container {\n",
              "      display:flex;\n",
              "      flex-wrap:wrap;\n",
              "      gap: 12px;\n",
              "    }\n",
              "\n",
              "    .colab-df-convert {\n",
              "      background-color: #E8F0FE;\n",
              "      border: none;\n",
              "      border-radius: 50%;\n",
              "      cursor: pointer;\n",
              "      display: none;\n",
              "      fill: #1967D2;\n",
              "      height: 32px;\n",
              "      padding: 0 0 0 0;\n",
              "      width: 32px;\n",
              "    }\n",
              "\n",
              "    .colab-df-convert:hover {\n",
              "      background-color: #E2EBFA;\n",
              "      box-shadow: 0px 1px 2px rgba(60, 64, 67, 0.3), 0px 1px 3px 1px rgba(60, 64, 67, 0.15);\n",
              "      fill: #174EA6;\n",
              "    }\n",
              "\n",
              "    [theme=dark] .colab-df-convert {\n",
              "      background-color: #3B4455;\n",
              "      fill: #D2E3FC;\n",
              "    }\n",
              "\n",
              "    [theme=dark] .colab-df-convert:hover {\n",
              "      background-color: #434B5C;\n",
              "      box-shadow: 0px 1px 3px 1px rgba(0, 0, 0, 0.15);\n",
              "      filter: drop-shadow(0px 1px 2px rgba(0, 0, 0, 0.3));\n",
              "      fill: #FFFFFF;\n",
              "    }\n",
              "  </style>\n",
              "\n",
              "      <script>\n",
              "        const buttonEl =\n",
              "          document.querySelector('#df-e2b31e38-0efa-4b9c-b823-4d3d1e11378c button.colab-df-convert');\n",
              "        buttonEl.style.display =\n",
              "          google.colab.kernel.accessAllowed ? 'block' : 'none';\n",
              "\n",
              "        async function convertToInteractive(key) {\n",
              "          const element = document.querySelector('#df-e2b31e38-0efa-4b9c-b823-4d3d1e11378c');\n",
              "          const dataTable =\n",
              "            await google.colab.kernel.invokeFunction('convertToInteractive',\n",
              "                                                     [key], {});\n",
              "          if (!dataTable) return;\n",
              "\n",
              "          const docLinkHtml = 'Like what you see? Visit the ' +\n",
              "            '<a target=\"_blank\" href=https://colab.research.google.com/notebooks/data_table.ipynb>data table notebook</a>'\n",
              "            + ' to learn more about interactive tables.';\n",
              "          element.innerHTML = '';\n",
              "          dataTable['output_type'] = 'display_data';\n",
              "          await google.colab.output.renderOutput(dataTable, element);\n",
              "          const docLink = document.createElement('div');\n",
              "          docLink.innerHTML = docLinkHtml;\n",
              "          element.appendChild(docLink);\n",
              "        }\n",
              "      </script>\n",
              "    </div>\n",
              "  </div>\n",
              "  "
            ]
          },
          "metadata": {},
          "execution_count": 74
        }
      ],
      "source": [
        "compare_all_models = pd.concat([performance_model_1, performance_model_2, performance_model_3])#comparing three models performance with eachother \n",
        "compare_all_models"
      ]
    },
    {
      "cell_type": "code",
      "source": [
        "# we see that r2 score for lasso and ridge regression are highest(model 2 & model 3). \n",
        "#Hence, we can say these 2 are the best models to run linear regession"
      ],
      "metadata": {
        "id": "xifJ-VE9od-i"
      },
      "execution_count": 77,
      "outputs": []
    },
    {
      "cell_type": "markdown",
      "source": [
        "### Problem 2"
      ],
      "metadata": {
        "id": "wikS7XK7Z1ZU"
      }
    },
    {
      "cell_type": "markdown",
      "source": [
        "**About the data:** <br>\n",
        "The advertising dataset includes advertising expenditure and sales of a product in 200 distinct markets.\n",
        "The columns are as follows:\n",
        "\n",
        "*   TV: Advertising expenditure of product in Television sector \n",
        "*   Newpaper: Advertising expenditure of product in Newspaper sector\n",
        "*   Sales: Sales of the product\n",
        "\n",
        "\n",
        "The goal is to predict the sales of the product based on the advertising expenditure in the two sectors.\n",
        "\n",
        "\n",
        "\n",
        "\n",
        "\n",
        "\n",
        "\n",
        "\n"
      ],
      "metadata": {
        "id": "Gi7euZebQLi-"
      }
    },
    {
      "cell_type": "markdown",
      "source": [
        "#### Using Sklearn"
      ],
      "metadata": {
        "id": "B2u-hAGN_sUV"
      }
    },
    {
      "cell_type": "markdown",
      "source": [
        "Import Advertising.csv data <br>\n",
        "(Sales column is the target variable)"
      ],
      "metadata": {
        "id": "5L41g8p3-POo"
      }
    },
    {
      "cell_type": "code",
      "source": [
        "#from google.colab import files\n",
        "#file = files.upload()\n",
        "advertising = pd.read_csv('advertising.csv')"
      ],
      "metadata": {
        "id": "nxAD7X2w8aqv"
      },
      "execution_count": 78,
      "outputs": []
    },
    {
      "cell_type": "markdown",
      "source": [
        "**Todo 1:** Fit the data in a linear regression model using sklearn\n"
      ],
      "metadata": {
        "id": "L9Y7ija09sn4"
      }
    },
    {
      "cell_type": "code",
      "source": [
        "y = advertising['sales'] \n",
        "X = advertising.drop('sales', axis = 1)"
      ],
      "metadata": {
        "id": "Awma8Rm3OEJF"
      },
      "execution_count": 79,
      "outputs": []
    },
    {
      "cell_type": "code",
      "source": [
        "from sklearn.model_selection import train_test_split\n",
        "X_train, X_test, y_train, y_test = train_test_split(X, y, test_size=0.25, random_state=42)"
      ],
      "metadata": {
        "id": "1cSIWtBrM8ps"
      },
      "execution_count": 80,
      "outputs": []
    },
    {
      "cell_type": "code",
      "source": [
        "from sklearn.linear_model import LinearRegression\n",
        "# Selecting input variables Age and RM for Model 1\n",
        "X_train_model = X_train\n",
        "y_train_model = y_train\n",
        "X_test_model = X_test\n",
        "y_test_model = y_test\n",
        "# Apply linear regression from scikit-learn\n",
        "LR_model = LinearRegression()\n",
        "# Fitting the training data\n",
        "LR_model.fit(X_train_model, y_train_model)\n",
        "coeff_model = pd.DataFrame(LR_model.coef_, index = X.columns, columns = {\"Coefficients\"})\n",
        "coeff_model\n",
        "# Summary of the fitted model\n",
        "print(\"Intercept of Model 1 = \" + str(LR_model.intercept_) + \"\\nCoefficients of Model 1 = \")\n",
        "print(coeff_model)"
      ],
      "metadata": {
        "colab": {
          "base_uri": "https://localhost:8080/",
          "height": 0
        },
        "id": "z9LiqmFiM8jQ",
        "outputId": "97697f38-0d76-49b2-d28b-54d8bbb1c3f2"
      },
      "execution_count": 81,
      "outputs": [
        {
          "output_type": "stream",
          "name": "stdout",
          "text": [
            "Intercept of Model 1 = 5.486841628145221\n",
            "Coefficients of Model 1 = \n",
            "           Coefficients\n",
            "TV             0.046681\n",
            "newspaper      0.055078\n"
          ]
        }
      ]
    },
    {
      "cell_type": "markdown",
      "source": [
        "**Todo 2:** \n",
        "Predict the sales values from the above fitted model <br>\n",
        "Calculate Mean Absolute Error, Mean Squared Error, Root Mean Squared Error and R Squared Score"
      ],
      "metadata": {
        "id": "YhGyM4BY_JeK"
      }
    },
    {
      "cell_type": "code",
      "source": [
        "import sklearn.metrics as metrics\n",
        "# Make predictions for Model 1\n",
        "predict_model = LR_model.predict(X_test_model)\n",
        "# Calculate error in predictions\n",
        "error_model = predict_model - y_test_model\n",
        "# Model 1 - actual, predicted and residual\n",
        "model = pd.DataFrame({\"Actual\": y_test_model, \"Predicted\": predict_model, \"Residual\": error_model})\n",
        "model\n",
        "# Calculate RMSE and MAE using sklearn.metrics\n",
        "mse_model = metrics.mean_squared_error(y_test_model, predict_model)\n",
        "rmse_model = np.sqrt(mse_model)\n",
        "mae_model = metrics.mean_absolute_error(y_test_model, predict_model)\n",
        "r2_model = metrics.r2_score(y_test_model, predict_model)\n",
        "performance_model = pd.Series({\"MSE\" : mse_model, \"RMSE\" : rmse_model, \"MAE\" : mae_model, \"R2 Score\" : r2_model})\n",
        "performance_model = pd.DataFrame(performance_model).T\n",
        "performance_model.index = [\"Model_1\"]\n",
        "performance_model"
      ],
      "metadata": {
        "id": "vRcsj-WFV2Hs",
        "colab": {
          "base_uri": "https://localhost:8080/",
          "height": 81
        },
        "outputId": "94e7c0fd-c0fc-4931-ea59-70964e2c1eca"
      },
      "execution_count": 82,
      "outputs": [
        {
          "output_type": "execute_result",
          "data": {
            "text/plain": [
              "              MSE      RMSE      MAE  R2 Score\n",
              "Model_1  9.594588  3.097513  2.25336  0.645257"
            ],
            "text/html": [
              "\n",
              "  <div id=\"df-51a70f74-3977-44b6-9480-359741cbb1df\">\n",
              "    <div class=\"colab-df-container\">\n",
              "      <div>\n",
              "<style scoped>\n",
              "    .dataframe tbody tr th:only-of-type {\n",
              "        vertical-align: middle;\n",
              "    }\n",
              "\n",
              "    .dataframe tbody tr th {\n",
              "        vertical-align: top;\n",
              "    }\n",
              "\n",
              "    .dataframe thead th {\n",
              "        text-align: right;\n",
              "    }\n",
              "</style>\n",
              "<table border=\"1\" class=\"dataframe\">\n",
              "  <thead>\n",
              "    <tr style=\"text-align: right;\">\n",
              "      <th></th>\n",
              "      <th>MSE</th>\n",
              "      <th>RMSE</th>\n",
              "      <th>MAE</th>\n",
              "      <th>R2 Score</th>\n",
              "    </tr>\n",
              "  </thead>\n",
              "  <tbody>\n",
              "    <tr>\n",
              "      <th>Model_1</th>\n",
              "      <td>9.594588</td>\n",
              "      <td>3.097513</td>\n",
              "      <td>2.25336</td>\n",
              "      <td>0.645257</td>\n",
              "    </tr>\n",
              "  </tbody>\n",
              "</table>\n",
              "</div>\n",
              "      <button class=\"colab-df-convert\" onclick=\"convertToInteractive('df-51a70f74-3977-44b6-9480-359741cbb1df')\"\n",
              "              title=\"Convert this dataframe to an interactive table.\"\n",
              "              style=\"display:none;\">\n",
              "        \n",
              "  <svg xmlns=\"http://www.w3.org/2000/svg\" height=\"24px\"viewBox=\"0 0 24 24\"\n",
              "       width=\"24px\">\n",
              "    <path d=\"M0 0h24v24H0V0z\" fill=\"none\"/>\n",
              "    <path d=\"M18.56 5.44l.94 2.06.94-2.06 2.06-.94-2.06-.94-.94-2.06-.94 2.06-2.06.94zm-11 1L8.5 8.5l.94-2.06 2.06-.94-2.06-.94L8.5 2.5l-.94 2.06-2.06.94zm10 10l.94 2.06.94-2.06 2.06-.94-2.06-.94-.94-2.06-.94 2.06-2.06.94z\"/><path d=\"M17.41 7.96l-1.37-1.37c-.4-.4-.92-.59-1.43-.59-.52 0-1.04.2-1.43.59L10.3 9.45l-7.72 7.72c-.78.78-.78 2.05 0 2.83L4 21.41c.39.39.9.59 1.41.59.51 0 1.02-.2 1.41-.59l7.78-7.78 2.81-2.81c.8-.78.8-2.07 0-2.86zM5.41 20L4 18.59l7.72-7.72 1.47 1.35L5.41 20z\"/>\n",
              "  </svg>\n",
              "      </button>\n",
              "      \n",
              "  <style>\n",
              "    .colab-df-container {\n",
              "      display:flex;\n",
              "      flex-wrap:wrap;\n",
              "      gap: 12px;\n",
              "    }\n",
              "\n",
              "    .colab-df-convert {\n",
              "      background-color: #E8F0FE;\n",
              "      border: none;\n",
              "      border-radius: 50%;\n",
              "      cursor: pointer;\n",
              "      display: none;\n",
              "      fill: #1967D2;\n",
              "      height: 32px;\n",
              "      padding: 0 0 0 0;\n",
              "      width: 32px;\n",
              "    }\n",
              "\n",
              "    .colab-df-convert:hover {\n",
              "      background-color: #E2EBFA;\n",
              "      box-shadow: 0px 1px 2px rgba(60, 64, 67, 0.3), 0px 1px 3px 1px rgba(60, 64, 67, 0.15);\n",
              "      fill: #174EA6;\n",
              "    }\n",
              "\n",
              "    [theme=dark] .colab-df-convert {\n",
              "      background-color: #3B4455;\n",
              "      fill: #D2E3FC;\n",
              "    }\n",
              "\n",
              "    [theme=dark] .colab-df-convert:hover {\n",
              "      background-color: #434B5C;\n",
              "      box-shadow: 0px 1px 3px 1px rgba(0, 0, 0, 0.15);\n",
              "      filter: drop-shadow(0px 1px 2px rgba(0, 0, 0, 0.3));\n",
              "      fill: #FFFFFF;\n",
              "    }\n",
              "  </style>\n",
              "\n",
              "      <script>\n",
              "        const buttonEl =\n",
              "          document.querySelector('#df-51a70f74-3977-44b6-9480-359741cbb1df button.colab-df-convert');\n",
              "        buttonEl.style.display =\n",
              "          google.colab.kernel.accessAllowed ? 'block' : 'none';\n",
              "\n",
              "        async function convertToInteractive(key) {\n",
              "          const element = document.querySelector('#df-51a70f74-3977-44b6-9480-359741cbb1df');\n",
              "          const dataTable =\n",
              "            await google.colab.kernel.invokeFunction('convertToInteractive',\n",
              "                                                     [key], {});\n",
              "          if (!dataTable) return;\n",
              "\n",
              "          const docLinkHtml = 'Like what you see? Visit the ' +\n",
              "            '<a target=\"_blank\" href=https://colab.research.google.com/notebooks/data_table.ipynb>data table notebook</a>'\n",
              "            + ' to learn more about interactive tables.';\n",
              "          element.innerHTML = '';\n",
              "          dataTable['output_type'] = 'display_data';\n",
              "          await google.colab.output.renderOutput(dataTable, element);\n",
              "          const docLink = document.createElement('div');\n",
              "          docLink.innerHTML = docLinkHtml;\n",
              "          element.appendChild(docLink);\n",
              "        }\n",
              "      </script>\n",
              "    </div>\n",
              "  </div>\n",
              "  "
            ]
          },
          "metadata": {},
          "execution_count": 82
        }
      ]
    },
    {
      "cell_type": "markdown",
      "source": [
        "**Todo 3**: Plot the Actual and Predicted values. Provide interpretations for the visualization"
      ],
      "metadata": {
        "id": "ssIyEwvXAHlW"
      }
    },
    {
      "cell_type": "code",
      "source": [
        "fig, ax1 = plt.subplots(figsize=(15, 8))\n",
        "plt.plot(predict_model, label = \"Predicted\")\n",
        "plt.plot(y_test.array, label = \"Actual\")\n",
        "plt.legend()\n",
        "plt.show()"
      ],
      "metadata": {
        "id": "Lrx2-bZwV5WC",
        "colab": {
          "base_uri": "https://localhost:8080/",
          "height": 483
        },
        "outputId": "adc097db-e6bc-47db-afba-20a89813b0e6"
      },
      "execution_count": 83,
      "outputs": [
        {
          "output_type": "display_data",
          "data": {
            "text/plain": [
              "<Figure size 1080x576 with 1 Axes>"
            ],
            "image/png": "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\n"
          },
          "metadata": {
            "needs_background": "light"
          }
        }
      ]
    },
    {
      "cell_type": "markdown",
      "source": [
        "**Todo 4:** Plot a 3D visualization for the dataset given. The plane of the 3D plot should represent the line equation and the actual values are scattered across the plot"
      ],
      "metadata": {
        "id": "LKP956FUS7eq"
      }
    },
    {
      "cell_type": "code",
      "source": [
        "import matplotlib.pyplot as plt\n",
        "from mpl_toolkits import mplot3d\n",
        "\n",
        "X1 = advertising['TV']\n",
        "X2 = advertising['newspaper']\n",
        "y = advertising['sales']\n",
        "\n",
        "# Create a 3D plot\n",
        "fig = plt.figure()\n",
        "ax = plt.axes(projection='3d')\n",
        "\n",
        "# Define the line equation\n",
        "x1_line = np.linspace(X1.min(), X1.max(), 10)\n",
        "x2_line = np.linspace(X2.min(), X2.max(), 10)\n",
        "X1_line, X2_line = np.meshgrid(x1_line, x2_line)\n",
        "Y_line = LR_model.intercept_ + LR_model.coef_[0] * X1_line + LR_model.coef_[1] * X2_line\n",
        "\n",
        "# Plot the line equation\n",
        "ax.plot_surface(X1_line, X2_line, Y_line, alpha=0.5)\n",
        "\n",
        "# Scatter plot the actual values\n",
        "ax.scatter(X1, X2, y, marker='o')\n",
        "\n",
        "# Set the labels for the axes\n",
        "ax.set_xlabel('TV')\n",
        "ax.set_ylabel('newspaper')\n",
        "ax.set_zlabel('sales')\n",
        "\n",
        "# Show the plot\n",
        "plt.show()"
      ],
      "metadata": {
        "id": "E_Xfj8TmV-RZ",
        "colab": {
          "base_uri": "https://localhost:8080/",
          "height": 259
        },
        "outputId": "6884c283-fa7c-4a25-ec3e-bfd7cad2b869"
      },
      "execution_count": 84,
      "outputs": [
        {
          "output_type": "display_data",
          "data": {
            "text/plain": [
              "<Figure size 432x288 with 1 Axes>"
            ],
            "image/png": "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\n"
          },
          "metadata": {
            "needs_background": "light"
          }
        }
      ]
    },
    {
      "cell_type": "markdown",
      "source": [
        "#### Using Matrix Multiplication"
      ],
      "metadata": {
        "id": "wbw0DBR4AXXt"
      }
    },
    {
      "cell_type": "markdown",
      "source": [
        "##### Without Bias (excluding B0)"
      ],
      "metadata": {
        "id": "TgKnY_zDDrIm"
      }
    },
    {
      "cell_type": "markdown",
      "source": [
        "Import Advertsing.csv <br>\n",
        "(Sales column is the target variable)"
      ],
      "metadata": {
        "id": "y5GQRCzsB3Ml"
      }
    },
    {
      "cell_type": "code",
      "source": [
        "advertising = pd.read_csv('advertising.csv')"
      ],
      "metadata": {
        "id": "2dECNbG-B21G"
      },
      "execution_count": 85,
      "outputs": []
    },
    {
      "cell_type": "markdown",
      "source": [
        "**Todo 1:** Use matrix multiplication to calculate the coefficients of the linear regression model\n"
      ],
      "metadata": {
        "id": "zXr8sjIkEz1C"
      }
    },
    {
      "cell_type": "code",
      "source": [
        "x_array = X_train.to_numpy()\n",
        "# calculate beta_hat using the formulae below\n",
        "# ([X(transpose).X]^(-1)).(X(tranpose).y)\n",
        "b_cap = np.linalg.inv(x_array.T.dot(x_array)).dot(x_array.T).dot(y_train)\n",
        "# b_cap = pd.DataFrame(b_cap, index = X_train.columns,columns = {\"FeatureWeights\"})\n",
        "b_cap"
      ],
      "metadata": {
        "id": "FsAyHJOKWAA_",
        "colab": {
          "base_uri": "https://localhost:8080/",
          "height": 0
        },
        "outputId": "5f4474fd-cff4-470b-f1bb-eb4e0563e250"
      },
      "execution_count": 86,
      "outputs": [
        {
          "output_type": "execute_result",
          "data": {
            "text/plain": [
              "array([0.0648424 , 0.11561395])"
            ]
          },
          "metadata": {},
          "execution_count": 86
        }
      ]
    },
    {
      "cell_type": "markdown",
      "source": [
        "**Todo 2**: Predict the sales values from the above coefficients calculated. <br>\n",
        "Calculate Mean Absolute Error, Mean Squared Error, Root Mean Squared Error and R Squared Score with the predicted values to the actual values given in the csv."
      ],
      "metadata": {
        "id": "yPsMr7R0FFju"
      }
    },
    {
      "cell_type": "code",
      "source": [
        "pred = X_test.dot(b_cap)\n",
        "\n",
        "# Calculate the mean absolute error\n",
        "mae = np.mean(np.abs(y_test - pred))\n",
        "\n",
        "# Calculate the mean squared error\n",
        "mse = np.mean((y_test - pred) ** 2)\n",
        "\n",
        "# Calculate the root mean squared error\n",
        "rmse = np.sqrt(mse)\n",
        "\n",
        "# Calculate the R-squared score\n",
        "sst = np.sum((y_test - np.mean(y_test)) ** 2)\n",
        "ssr = np.sum((pred - y_test) ** 2)\n",
        "r2 = 1 - ssr / sst\n",
        "print(f\"mae is {mae}\")\n",
        "print(f\"mse is {mse}\")\n",
        "print(f\"rmse is {rmse}\")\n",
        "print(f\"r2 score is {r2}\")"
      ],
      "metadata": {
        "id": "TpV--AzFWC4L",
        "colab": {
          "base_uri": "https://localhost:8080/",
          "height": 0
        },
        "outputId": "62f72ef4-2f28-4fbd-c634-134aa34b5a1d"
      },
      "execution_count": 91,
      "outputs": [
        {
          "output_type": "stream",
          "name": "stdout",
          "text": [
            "mae is 3.609292782031986\n",
            "mse is 18.92815326160338\n",
            "rmse is 4.35064975165818\n",
            "r2 score is 0.30016577072231343\n"
          ]
        }
      ]
    },
    {
      "cell_type": "markdown",
      "source": [
        "**Todo 3:** Plot the Actual and Predicted values. Provide interpretations for the visualization"
      ],
      "metadata": {
        "id": "0-O3jgPAFPcU"
      }
    },
    {
      "cell_type": "code",
      "source": [
        "fig, ax1 = plt.subplots(figsize=(15, 8))\n",
        "plt.plot(pred.array, label = \"Predicted\")\n",
        "plt.plot(y_test.array, label = \"Actual\")\n",
        "plt.legend()\n",
        "plt.show()"
      ],
      "metadata": {
        "id": "eUqNlg9RWF64",
        "colab": {
          "base_uri": "https://localhost:8080/",
          "height": 483
        },
        "outputId": "71d76253-0106-4632-f0ee-ce14aee771b9"
      },
      "execution_count": 92,
      "outputs": [
        {
          "output_type": "display_data",
          "data": {
            "text/plain": [
              "<Figure size 1080x576 with 1 Axes>"
            ],
            "image/png": "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\n"
          },
          "metadata": {
            "needs_background": "light"
          }
        }
      ]
    },
    {
      "cell_type": "markdown",
      "source": [
        "##### With Bias (including B0)"
      ],
      "metadata": {
        "id": "N80FM7JRDbBg"
      }
    },
    {
      "cell_type": "markdown",
      "source": [
        "**Todo 1:** Use matrix multiplication to calculate the coefficients of the linear regression model with bias\n"
      ],
      "metadata": {
        "id": "-RWN62GMFdtM"
      }
    },
    {
      "cell_type": "code",
      "source": [
        "import pandas as pd\n",
        "from sklearn.model_selection import train_test_split\n",
        "import numpy as np\n",
        "\n",
        "#Load the dataset\n",
        "df = pd.read_csv(\"advertising.csv\") \n",
        "df = pd.DataFrame(np.column_stack([np.ones(df.shape[0]),df]))\n",
        "df.head()"
      ],
      "metadata": {
        "id": "dwSOA_72WIpW",
        "colab": {
          "base_uri": "https://localhost:8080/",
          "height": 206
        },
        "outputId": "15239960-de98-490a-dcf0-9fcd909f118e"
      },
      "execution_count": 93,
      "outputs": [
        {
          "output_type": "execute_result",
          "data": {
            "text/plain": [
              "     0      1     2     3\n",
              "0  1.0  230.1  69.2  22.1\n",
              "1  1.0   44.5  45.1  10.4\n",
              "2  1.0   17.2  69.3   9.3\n",
              "3  1.0  151.5  58.5  18.5\n",
              "4  1.0  180.8  58.4  12.9"
            ],
            "text/html": [
              "\n",
              "  <div id=\"df-5215a60d-8df7-47f5-b763-b0c3390ab607\">\n",
              "    <div class=\"colab-df-container\">\n",
              "      <div>\n",
              "<style scoped>\n",
              "    .dataframe tbody tr th:only-of-type {\n",
              "        vertical-align: middle;\n",
              "    }\n",
              "\n",
              "    .dataframe tbody tr th {\n",
              "        vertical-align: top;\n",
              "    }\n",
              "\n",
              "    .dataframe thead th {\n",
              "        text-align: right;\n",
              "    }\n",
              "</style>\n",
              "<table border=\"1\" class=\"dataframe\">\n",
              "  <thead>\n",
              "    <tr style=\"text-align: right;\">\n",
              "      <th></th>\n",
              "      <th>0</th>\n",
              "      <th>1</th>\n",
              "      <th>2</th>\n",
              "      <th>3</th>\n",
              "    </tr>\n",
              "  </thead>\n",
              "  <tbody>\n",
              "    <tr>\n",
              "      <th>0</th>\n",
              "      <td>1.0</td>\n",
              "      <td>230.1</td>\n",
              "      <td>69.2</td>\n",
              "      <td>22.1</td>\n",
              "    </tr>\n",
              "    <tr>\n",
              "      <th>1</th>\n",
              "      <td>1.0</td>\n",
              "      <td>44.5</td>\n",
              "      <td>45.1</td>\n",
              "      <td>10.4</td>\n",
              "    </tr>\n",
              "    <tr>\n",
              "      <th>2</th>\n",
              "      <td>1.0</td>\n",
              "      <td>17.2</td>\n",
              "      <td>69.3</td>\n",
              "      <td>9.3</td>\n",
              "    </tr>\n",
              "    <tr>\n",
              "      <th>3</th>\n",
              "      <td>1.0</td>\n",
              "      <td>151.5</td>\n",
              "      <td>58.5</td>\n",
              "      <td>18.5</td>\n",
              "    </tr>\n",
              "    <tr>\n",
              "      <th>4</th>\n",
              "      <td>1.0</td>\n",
              "      <td>180.8</td>\n",
              "      <td>58.4</td>\n",
              "      <td>12.9</td>\n",
              "    </tr>\n",
              "  </tbody>\n",
              "</table>\n",
              "</div>\n",
              "      <button class=\"colab-df-convert\" onclick=\"convertToInteractive('df-5215a60d-8df7-47f5-b763-b0c3390ab607')\"\n",
              "              title=\"Convert this dataframe to an interactive table.\"\n",
              "              style=\"display:none;\">\n",
              "        \n",
              "  <svg xmlns=\"http://www.w3.org/2000/svg\" height=\"24px\"viewBox=\"0 0 24 24\"\n",
              "       width=\"24px\">\n",
              "    <path d=\"M0 0h24v24H0V0z\" fill=\"none\"/>\n",
              "    <path d=\"M18.56 5.44l.94 2.06.94-2.06 2.06-.94-2.06-.94-.94-2.06-.94 2.06-2.06.94zm-11 1L8.5 8.5l.94-2.06 2.06-.94-2.06-.94L8.5 2.5l-.94 2.06-2.06.94zm10 10l.94 2.06.94-2.06 2.06-.94-2.06-.94-.94-2.06-.94 2.06-2.06.94z\"/><path d=\"M17.41 7.96l-1.37-1.37c-.4-.4-.92-.59-1.43-.59-.52 0-1.04.2-1.43.59L10.3 9.45l-7.72 7.72c-.78.78-.78 2.05 0 2.83L4 21.41c.39.39.9.59 1.41.59.51 0 1.02-.2 1.41-.59l7.78-7.78 2.81-2.81c.8-.78.8-2.07 0-2.86zM5.41 20L4 18.59l7.72-7.72 1.47 1.35L5.41 20z\"/>\n",
              "  </svg>\n",
              "      </button>\n",
              "      \n",
              "  <style>\n",
              "    .colab-df-container {\n",
              "      display:flex;\n",
              "      flex-wrap:wrap;\n",
              "      gap: 12px;\n",
              "    }\n",
              "\n",
              "    .colab-df-convert {\n",
              "      background-color: #E8F0FE;\n",
              "      border: none;\n",
              "      border-radius: 50%;\n",
              "      cursor: pointer;\n",
              "      display: none;\n",
              "      fill: #1967D2;\n",
              "      height: 32px;\n",
              "      padding: 0 0 0 0;\n",
              "      width: 32px;\n",
              "    }\n",
              "\n",
              "    .colab-df-convert:hover {\n",
              "      background-color: #E2EBFA;\n",
              "      box-shadow: 0px 1px 2px rgba(60, 64, 67, 0.3), 0px 1px 3px 1px rgba(60, 64, 67, 0.15);\n",
              "      fill: #174EA6;\n",
              "    }\n",
              "\n",
              "    [theme=dark] .colab-df-convert {\n",
              "      background-color: #3B4455;\n",
              "      fill: #D2E3FC;\n",
              "    }\n",
              "\n",
              "    [theme=dark] .colab-df-convert:hover {\n",
              "      background-color: #434B5C;\n",
              "      box-shadow: 0px 1px 3px 1px rgba(0, 0, 0, 0.15);\n",
              "      filter: drop-shadow(0px 1px 2px rgba(0, 0, 0, 0.3));\n",
              "      fill: #FFFFFF;\n",
              "    }\n",
              "  </style>\n",
              "\n",
              "      <script>\n",
              "        const buttonEl =\n",
              "          document.querySelector('#df-5215a60d-8df7-47f5-b763-b0c3390ab607 button.colab-df-convert');\n",
              "        buttonEl.style.display =\n",
              "          google.colab.kernel.accessAllowed ? 'block' : 'none';\n",
              "\n",
              "        async function convertToInteractive(key) {\n",
              "          const element = document.querySelector('#df-5215a60d-8df7-47f5-b763-b0c3390ab607');\n",
              "          const dataTable =\n",
              "            await google.colab.kernel.invokeFunction('convertToInteractive',\n",
              "                                                     [key], {});\n",
              "          if (!dataTable) return;\n",
              "\n",
              "          const docLinkHtml = 'Like what you see? Visit the ' +\n",
              "            '<a target=\"_blank\" href=https://colab.research.google.com/notebooks/data_table.ipynb>data table notebook</a>'\n",
              "            + ' to learn more about interactive tables.';\n",
              "          element.innerHTML = '';\n",
              "          dataTable['output_type'] = 'display_data';\n",
              "          await google.colab.output.renderOutput(dataTable, element);\n",
              "          const docLink = document.createElement('div');\n",
              "          docLink.innerHTML = docLinkHtml;\n",
              "          element.appendChild(docLink);\n",
              "        }\n",
              "      </script>\n",
              "    </div>\n",
              "  </div>\n",
              "  "
            ]
          },
          "metadata": {},
          "execution_count": 93
        }
      ]
    },
    {
      "cell_type": "code",
      "source": [
        "#split the dataset\n",
        "X = df.iloc[:,:-1]\n",
        "y = df.iloc[:,-1]\n",
        "X_train, X_test, y_train, y_test = train_test_split(X,y,test_size=0.3,shuffle = True)\n",
        "x_array = X_train.to_numpy()\n",
        "# calculate beta_hat using the formulae below\n",
        "# ([X(transpose).X]^(-1)).(X(tranpose).y)\n",
        "b_cap = np.linalg.inv(x_array.T.dot(x_array)).dot(x_array.T).dot(y_train)\n",
        "#b_cap = pd.DataFrame(b_cap, index = X_train.columns,\n",
        "columns = {\"FeatureWeights\"}\n",
        "b_cap"
      ],
      "metadata": {
        "colab": {
          "base_uri": "https://localhost:8080/",
          "height": 0
        },
        "id": "4qB636FedfE4",
        "outputId": "732131e3-79c5-498d-de86-5924d9a3cbab"
      },
      "execution_count": 94,
      "outputs": [
        {
          "output_type": "execute_result",
          "data": {
            "text/plain": [
              "array([5.79688695, 0.04721549, 0.03818755])"
            ]
          },
          "metadata": {},
          "execution_count": 94
        }
      ]
    },
    {
      "cell_type": "markdown",
      "source": [
        "**Todo 2**: \n",
        "\n",
        "Predict the sales values from the above coefficients calculated. <br>\n",
        "Calculate Mean Absolute Error, Mean Squared Error, Root Mean Squared Error and R Squared Score with the predicted values to the actual values given in the csv."
      ],
      "metadata": {
        "id": "W59mWkhfFsAz"
      }
    },
    {
      "cell_type": "code",
      "source": [
        "pred = X_test.dot(b_cap)\n",
        "\n",
        "# Calculate the mean absolute error\n",
        "mae = np.mean(np.abs(y_test - pred))\n",
        "\n",
        "# Calculate the mean squared error\n",
        "mse = np.mean((y_test - pred) ** 2)\n",
        "\n",
        "# Calculate the root mean squared error\n",
        "rmse = np.sqrt(mse)\n",
        "\n",
        "# Calculate the R-squared score\n",
        "sst = np.sum((y_test - np.mean(y_test)) ** 2)\n",
        "ssr = np.sum((pred - y_test) ** 2)\n",
        "r2 = 1 - ssr / sst\n",
        "print(mae)\n",
        "print(mse)\n",
        "print(rmse)\n",
        "print(r2)"
      ],
      "metadata": {
        "id": "jR-Air74WKHO",
        "colab": {
          "base_uri": "https://localhost:8080/",
          "height": 0
        },
        "outputId": "5452a164-b481-4a61-96f4-600002fda7b5"
      },
      "execution_count": 95,
      "outputs": [
        {
          "output_type": "stream",
          "name": "stdout",
          "text": [
            "2.2746302616265366\n",
            "8.70141648145912\n",
            "2.949816347073004\n",
            "0.6423995407516785\n"
          ]
        }
      ]
    },
    {
      "cell_type": "markdown",
      "source": [
        "**Todo 3**: Plot the Actual and Predicted values. Provide interpretations for the visualization"
      ],
      "metadata": {
        "id": "drq2YypaF0Mg"
      }
    },
    {
      "cell_type": "code",
      "source": [
        "fig, ax1 = plt.subplots(figsize=(15, 8))\n",
        "plt.plot(pred.array, label = \"Predicted\")\n",
        "plt.plot(y_test.array, label = \"Actual\")\n",
        "plt.legend()\n",
        "plt.show()"
      ],
      "metadata": {
        "id": "G7smgtwQWMQJ",
        "colab": {
          "base_uri": "https://localhost:8080/",
          "height": 483
        },
        "outputId": "529a7d7b-e866-4f3f-eae6-1c60e8fc32f3"
      },
      "execution_count": 96,
      "outputs": [
        {
          "output_type": "display_data",
          "data": {
            "text/plain": [
              "<Figure size 1080x576 with 1 Axes>"
            ],
            "image/png": "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\n"
          },
          "metadata": {
            "needs_background": "light"
          }
        }
      ]
    },
    {
      "cell_type": "markdown",
      "source": [
        "**Todo 4**: Compare and interpret results of with and without bias."
      ],
      "metadata": {
        "id": "Pl6obbtiEdN-"
      }
    },
    {
      "cell_type": "code",
      "source": [
        "# With bias, we get the intercept, without bias the line goes through origin, so with bias results are more accurate"
      ],
      "metadata": {
        "id": "SjFenP14Eh69"
      },
      "execution_count": 97,
      "outputs": []
    },
    {
      "cell_type": "markdown",
      "source": [
        "**Todo 5**: Do you notice any difference between the model evaluated with bias and sklearn model."
      ],
      "metadata": {
        "id": "xihWVCgWJ8OK"
      }
    },
    {
      "cell_type": "code",
      "source": [
        "#We see that coeeficients and intercepts from sklearn and no bias are almost the same"
      ],
      "metadata": {
        "id": "dGNYbNPaVbWq"
      },
      "execution_count": 98,
      "outputs": []
    },
    {
      "cell_type": "markdown",
      "source": [
        "#Problem 3 - Forward Selection"
      ],
      "metadata": {
        "id": "Mqv9-w_zCvvg"
      }
    },
    {
      "cell_type": "markdown",
      "source": [
        "Using the abalone csv file, implement the forward selection.\n",
        "\n",
        "For performance evaluation, use adjusted R squared."
      ],
      "metadata": {
        "id": "bMXABEJtQiE5"
      }
    },
    {
      "cell_type": "markdown",
      "source": [
        "**Dataset:**\n",
        "abalone.csv\n",
        "\n",
        "**Attribute Information:**\n",
        "Given is the attribute name, attribute type, the measurement unit, and a brief description. \n",
        "\n",
        "Name / Data Type / Measurement Unit / Description \n",
        "\n",
        "Length / continuous / mm / Longest shell measurement \n",
        "\n",
        "Diameter / continuous / mm / perpendicular to length \n",
        "\n",
        "Height / continuous / mm / with meat in shell \n",
        "\n",
        "Whole weight / continuous / grams / whole abalone \n",
        "\n",
        "Shucked weight / continuous / grams / weight of meat \n",
        "\n",
        "Viscera weight / continuous / grams / gut weight (after bleeding) \n",
        "\n",
        "Shell weight / continuous / grams / after being dried \n",
        "\n",
        "Rings / integer / -- / +1.5 gives the age in years\n",
        "\n",
        "**The target variable is Rings. The rest are predictors.**"
      ],
      "metadata": {
        "id": "fBdxwqifY77y"
      }
    },
    {
      "cell_type": "markdown",
      "source": [
        "**TODO 1:**\n",
        "Load the csv file and split the data into train and test with 70:30 ratio.\n"
      ],
      "metadata": {
        "id": "R2YCvO_sYM-G"
      }
    },
    {
      "cell_type": "code",
      "source": [
        "import pandas as pd\n",
        "from sklearn.model_selection import train_test_split\n",
        "\n",
        "#Load the dataset\n",
        "#from google.colab import files\n",
        "#file = files.upload()  #upload file into google colab session\n",
        "df = pd.read_csv(\"abalone.csv\") "
      ],
      "metadata": {
        "id": "VMuk996dYcUn"
      },
      "execution_count": 99,
      "outputs": []
    },
    {
      "cell_type": "code",
      "source": [
        "#split the dataset\n",
        "X = df.iloc[:,:-1]\n",
        "y = df.iloc[:,-1]\n",
        "X_train, X_test, y_train, y_test = train_test_split(X,y,test_size=0.3,shuffle = True)"
      ],
      "metadata": {
        "id": "kAIom0y0XsKy"
      },
      "execution_count": 100,
      "outputs": []
    },
    {
      "cell_type": "markdown",
      "source": [
        "**TODO 2:**\n",
        "Choosing the first variable.\n",
        "\n",
        "Write a function with inputs as variables, builds a linear regression model (use sklearn) and returns the adjusted R squared score. \n",
        "\n",
        "1. From the 7 variables present, select one variable each time and build a linear regression model (using the above function that you have built). \n",
        "\n",
        "2. Compare the model performance by adjusted R square. Present your results in a tabular form with vairable and the R squared value.\n",
        "\n",
        "3. Select the winning model."
      ],
      "metadata": {
        "id": "KH1MSDUgRi5V"
      }
    },
    {
      "cell_type": "code",
      "execution_count": 101,
      "metadata": {
        "id": "o3vHFDhjCpT7"
      },
      "outputs": [],
      "source": [
        "from sklearn.linear_model import LinearRegression\n",
        "import sklearn.metrics as metrics\n",
        "\n",
        "def rSquaredScore(x):\n",
        "  lr = LinearRegression()\n",
        "  lr.fit(X_train[[x]],y_train)\n",
        "  y_pred = lr.predict(X_test[[x]])\n",
        "  r2 = metrics.r2_score(y_test, y_pred)\n",
        "  adj_r2 = 1-(1-r2*((len(y_test)-1)/(len(y_test)-X.shape[1]-1)))\n",
        "\n",
        "  return adj_r2"
      ]
    },
    {
      "cell_type": "code",
      "source": [
        "z = ['Length', 'Diameter', 'Height', 'Whole weight', 'Shucked weight',\n",
        "       'Viscera weight', 'Shell weight']\n",
        "\n",
        "scores_list =[]\n",
        "for feature in z:\n",
        "  score = rSquaredScore(feature)\n",
        "  scores_list.append(score)\n",
        "scores_list\n",
        "print('Shell Weight has highest r2 score')\n",
        "dfnew = pd.DataFrame({'Varaible':z, 'Adjusted R2 Score': scores_list})\n",
        "dfnew"
      ],
      "metadata": {
        "colab": {
          "base_uri": "https://localhost:8080/",
          "height": 287
        },
        "id": "CIUtfvpTXxoi",
        "outputId": "216ca16d-3741-478e-ad29-33115275cb66"
      },
      "execution_count": 102,
      "outputs": [
        {
          "output_type": "stream",
          "name": "stdout",
          "text": [
            "Shell Weight has highest r2 score\n"
          ]
        },
        {
          "output_type": "execute_result",
          "data": {
            "text/plain": [
              "         Varaible  Adjusted R2 Score\n",
              "0          Length           0.307874\n",
              "1        Diameter           0.329065\n",
              "2          Height           0.345341\n",
              "3    Whole weight           0.298562\n",
              "4  Shucked weight           0.179067\n",
              "5  Viscera weight           0.249686\n",
              "6    Shell weight           0.412871"
            ],
            "text/html": [
              "\n",
              "  <div id=\"df-09709b16-a8c9-4bb8-8613-22e721ffd002\">\n",
              "    <div class=\"colab-df-container\">\n",
              "      <div>\n",
              "<style scoped>\n",
              "    .dataframe tbody tr th:only-of-type {\n",
              "        vertical-align: middle;\n",
              "    }\n",
              "\n",
              "    .dataframe tbody tr th {\n",
              "        vertical-align: top;\n",
              "    }\n",
              "\n",
              "    .dataframe thead th {\n",
              "        text-align: right;\n",
              "    }\n",
              "</style>\n",
              "<table border=\"1\" class=\"dataframe\">\n",
              "  <thead>\n",
              "    <tr style=\"text-align: right;\">\n",
              "      <th></th>\n",
              "      <th>Varaible</th>\n",
              "      <th>Adjusted R2 Score</th>\n",
              "    </tr>\n",
              "  </thead>\n",
              "  <tbody>\n",
              "    <tr>\n",
              "      <th>0</th>\n",
              "      <td>Length</td>\n",
              "      <td>0.307874</td>\n",
              "    </tr>\n",
              "    <tr>\n",
              "      <th>1</th>\n",
              "      <td>Diameter</td>\n",
              "      <td>0.329065</td>\n",
              "    </tr>\n",
              "    <tr>\n",
              "      <th>2</th>\n",
              "      <td>Height</td>\n",
              "      <td>0.345341</td>\n",
              "    </tr>\n",
              "    <tr>\n",
              "      <th>3</th>\n",
              "      <td>Whole weight</td>\n",
              "      <td>0.298562</td>\n",
              "    </tr>\n",
              "    <tr>\n",
              "      <th>4</th>\n",
              "      <td>Shucked weight</td>\n",
              "      <td>0.179067</td>\n",
              "    </tr>\n",
              "    <tr>\n",
              "      <th>5</th>\n",
              "      <td>Viscera weight</td>\n",
              "      <td>0.249686</td>\n",
              "    </tr>\n",
              "    <tr>\n",
              "      <th>6</th>\n",
              "      <td>Shell weight</td>\n",
              "      <td>0.412871</td>\n",
              "    </tr>\n",
              "  </tbody>\n",
              "</table>\n",
              "</div>\n",
              "      <button class=\"colab-df-convert\" onclick=\"convertToInteractive('df-09709b16-a8c9-4bb8-8613-22e721ffd002')\"\n",
              "              title=\"Convert this dataframe to an interactive table.\"\n",
              "              style=\"display:none;\">\n",
              "        \n",
              "  <svg xmlns=\"http://www.w3.org/2000/svg\" height=\"24px\"viewBox=\"0 0 24 24\"\n",
              "       width=\"24px\">\n",
              "    <path d=\"M0 0h24v24H0V0z\" fill=\"none\"/>\n",
              "    <path d=\"M18.56 5.44l.94 2.06.94-2.06 2.06-.94-2.06-.94-.94-2.06-.94 2.06-2.06.94zm-11 1L8.5 8.5l.94-2.06 2.06-.94-2.06-.94L8.5 2.5l-.94 2.06-2.06.94zm10 10l.94 2.06.94-2.06 2.06-.94-2.06-.94-.94-2.06-.94 2.06-2.06.94z\"/><path d=\"M17.41 7.96l-1.37-1.37c-.4-.4-.92-.59-1.43-.59-.52 0-1.04.2-1.43.59L10.3 9.45l-7.72 7.72c-.78.78-.78 2.05 0 2.83L4 21.41c.39.39.9.59 1.41.59.51 0 1.02-.2 1.41-.59l7.78-7.78 2.81-2.81c.8-.78.8-2.07 0-2.86zM5.41 20L4 18.59l7.72-7.72 1.47 1.35L5.41 20z\"/>\n",
              "  </svg>\n",
              "      </button>\n",
              "      \n",
              "  <style>\n",
              "    .colab-df-container {\n",
              "      display:flex;\n",
              "      flex-wrap:wrap;\n",
              "      gap: 12px;\n",
              "    }\n",
              "\n",
              "    .colab-df-convert {\n",
              "      background-color: #E8F0FE;\n",
              "      border: none;\n",
              "      border-radius: 50%;\n",
              "      cursor: pointer;\n",
              "      display: none;\n",
              "      fill: #1967D2;\n",
              "      height: 32px;\n",
              "      padding: 0 0 0 0;\n",
              "      width: 32px;\n",
              "    }\n",
              "\n",
              "    .colab-df-convert:hover {\n",
              "      background-color: #E2EBFA;\n",
              "      box-shadow: 0px 1px 2px rgba(60, 64, 67, 0.3), 0px 1px 3px 1px rgba(60, 64, 67, 0.15);\n",
              "      fill: #174EA6;\n",
              "    }\n",
              "\n",
              "    [theme=dark] .colab-df-convert {\n",
              "      background-color: #3B4455;\n",
              "      fill: #D2E3FC;\n",
              "    }\n",
              "\n",
              "    [theme=dark] .colab-df-convert:hover {\n",
              "      background-color: #434B5C;\n",
              "      box-shadow: 0px 1px 3px 1px rgba(0, 0, 0, 0.15);\n",
              "      filter: drop-shadow(0px 1px 2px rgba(0, 0, 0, 0.3));\n",
              "      fill: #FFFFFF;\n",
              "    }\n",
              "  </style>\n",
              "\n",
              "      <script>\n",
              "        const buttonEl =\n",
              "          document.querySelector('#df-09709b16-a8c9-4bb8-8613-22e721ffd002 button.colab-df-convert');\n",
              "        buttonEl.style.display =\n",
              "          google.colab.kernel.accessAllowed ? 'block' : 'none';\n",
              "\n",
              "        async function convertToInteractive(key) {\n",
              "          const element = document.querySelector('#df-09709b16-a8c9-4bb8-8613-22e721ffd002');\n",
              "          const dataTable =\n",
              "            await google.colab.kernel.invokeFunction('convertToInteractive',\n",
              "                                                     [key], {});\n",
              "          if (!dataTable) return;\n",
              "\n",
              "          const docLinkHtml = 'Like what you see? Visit the ' +\n",
              "            '<a target=\"_blank\" href=https://colab.research.google.com/notebooks/data_table.ipynb>data table notebook</a>'\n",
              "            + ' to learn more about interactive tables.';\n",
              "          element.innerHTML = '';\n",
              "          dataTable['output_type'] = 'display_data';\n",
              "          await google.colab.output.renderOutput(dataTable, element);\n",
              "          const docLink = document.createElement('div');\n",
              "          docLink.innerHTML = docLinkHtml;\n",
              "          element.appendChild(docLink);\n",
              "        }\n",
              "      </script>\n",
              "    </div>\n",
              "  </div>\n",
              "  "
            ]
          },
          "metadata": {},
          "execution_count": 102
        }
      ]
    },
    {
      "cell_type": "markdown",
      "source": [
        "**TODO 3:**\n",
        "Choosing the second variable\n",
        "1. Using the variable from the winning model, find the second best variable with the possible combinations.\n",
        "\n",
        "2. compare the model performance and present your results in a tabular form.\n",
        "\n",
        "3. select the winning model."
      ],
      "metadata": {
        "id": "MNTfua2sT2nd"
      }
    },
    {
      "cell_type": "code",
      "source": [
        "def rSquaredScore2(x1, x2):\n",
        "  lr = LinearRegression()\n",
        "  lr.fit(X_train[[x1, x2]],y_train)\n",
        "  y_pred = lr.predict(X_test[[x1, x2]])\n",
        "  r2 = metrics.r2_score(y_test, y_pred)\n",
        "  adj_r2 = 1-(1-r2*((len(y_test)-1)/(len(y_test)-X.shape[1]-1)))\n",
        "\n",
        "  return adj_r2\n",
        "\n",
        "z = [('Shell weight', 'Length'),('Shell weight', 'Diameter'),('Shell weight', 'Height'),('Shell weight', 'Whole weight'),\n",
        "     ('Shell weight', 'Viscera weight'),('Shell weight', 'Shucked weight')]\n",
        "\n",
        "scores_list =[]\n",
        "for x1, x2 in z:\n",
        "  score = rSquaredScore2(x1, x2)\n",
        "  scores_list.append(score)\n",
        "scores_list\n",
        "\n",
        "pd.DataFrame({'Varaibles':z, 'Adjusted R2 Score': scores_list})"
      ],
      "metadata": {
        "id": "yrjWnutzVmqZ",
        "colab": {
          "base_uri": "https://localhost:8080/",
          "height": 238
        },
        "outputId": "04a04cd2-c12c-4f48-a7f8-e1f026016c5a"
      },
      "execution_count": 103,
      "outputs": [
        {
          "output_type": "execute_result",
          "data": {
            "text/plain": [
              "                        Varaibles  Adjusted R2 Score\n",
              "0          (Shell weight, Length)           0.412900\n",
              "1        (Shell weight, Diameter)           0.410844\n",
              "2          (Shell weight, Height)           0.417072\n",
              "3    (Shell weight, Whole weight)           0.464278\n",
              "4  (Shell weight, Viscera weight)           0.447641\n",
              "5  (Shell weight, Shucked weight)           0.509253"
            ],
            "text/html": [
              "\n",
              "  <div id=\"df-dbffbf81-ac5d-43df-b0f8-8767dd8e75c3\">\n",
              "    <div class=\"colab-df-container\">\n",
              "      <div>\n",
              "<style scoped>\n",
              "    .dataframe tbody tr th:only-of-type {\n",
              "        vertical-align: middle;\n",
              "    }\n",
              "\n",
              "    .dataframe tbody tr th {\n",
              "        vertical-align: top;\n",
              "    }\n",
              "\n",
              "    .dataframe thead th {\n",
              "        text-align: right;\n",
              "    }\n",
              "</style>\n",
              "<table border=\"1\" class=\"dataframe\">\n",
              "  <thead>\n",
              "    <tr style=\"text-align: right;\">\n",
              "      <th></th>\n",
              "      <th>Varaibles</th>\n",
              "      <th>Adjusted R2 Score</th>\n",
              "    </tr>\n",
              "  </thead>\n",
              "  <tbody>\n",
              "    <tr>\n",
              "      <th>0</th>\n",
              "      <td>(Shell weight, Length)</td>\n",
              "      <td>0.412900</td>\n",
              "    </tr>\n",
              "    <tr>\n",
              "      <th>1</th>\n",
              "      <td>(Shell weight, Diameter)</td>\n",
              "      <td>0.410844</td>\n",
              "    </tr>\n",
              "    <tr>\n",
              "      <th>2</th>\n",
              "      <td>(Shell weight, Height)</td>\n",
              "      <td>0.417072</td>\n",
              "    </tr>\n",
              "    <tr>\n",
              "      <th>3</th>\n",
              "      <td>(Shell weight, Whole weight)</td>\n",
              "      <td>0.464278</td>\n",
              "    </tr>\n",
              "    <tr>\n",
              "      <th>4</th>\n",
              "      <td>(Shell weight, Viscera weight)</td>\n",
              "      <td>0.447641</td>\n",
              "    </tr>\n",
              "    <tr>\n",
              "      <th>5</th>\n",
              "      <td>(Shell weight, Shucked weight)</td>\n",
              "      <td>0.509253</td>\n",
              "    </tr>\n",
              "  </tbody>\n",
              "</table>\n",
              "</div>\n",
              "      <button class=\"colab-df-convert\" onclick=\"convertToInteractive('df-dbffbf81-ac5d-43df-b0f8-8767dd8e75c3')\"\n",
              "              title=\"Convert this dataframe to an interactive table.\"\n",
              "              style=\"display:none;\">\n",
              "        \n",
              "  <svg xmlns=\"http://www.w3.org/2000/svg\" height=\"24px\"viewBox=\"0 0 24 24\"\n",
              "       width=\"24px\">\n",
              "    <path d=\"M0 0h24v24H0V0z\" fill=\"none\"/>\n",
              "    <path d=\"M18.56 5.44l.94 2.06.94-2.06 2.06-.94-2.06-.94-.94-2.06-.94 2.06-2.06.94zm-11 1L8.5 8.5l.94-2.06 2.06-.94-2.06-.94L8.5 2.5l-.94 2.06-2.06.94zm10 10l.94 2.06.94-2.06 2.06-.94-2.06-.94-.94-2.06-.94 2.06-2.06.94z\"/><path d=\"M17.41 7.96l-1.37-1.37c-.4-.4-.92-.59-1.43-.59-.52 0-1.04.2-1.43.59L10.3 9.45l-7.72 7.72c-.78.78-.78 2.05 0 2.83L4 21.41c.39.39.9.59 1.41.59.51 0 1.02-.2 1.41-.59l7.78-7.78 2.81-2.81c.8-.78.8-2.07 0-2.86zM5.41 20L4 18.59l7.72-7.72 1.47 1.35L5.41 20z\"/>\n",
              "  </svg>\n",
              "      </button>\n",
              "      \n",
              "  <style>\n",
              "    .colab-df-container {\n",
              "      display:flex;\n",
              "      flex-wrap:wrap;\n",
              "      gap: 12px;\n",
              "    }\n",
              "\n",
              "    .colab-df-convert {\n",
              "      background-color: #E8F0FE;\n",
              "      border: none;\n",
              "      border-radius: 50%;\n",
              "      cursor: pointer;\n",
              "      display: none;\n",
              "      fill: #1967D2;\n",
              "      height: 32px;\n",
              "      padding: 0 0 0 0;\n",
              "      width: 32px;\n",
              "    }\n",
              "\n",
              "    .colab-df-convert:hover {\n",
              "      background-color: #E2EBFA;\n",
              "      box-shadow: 0px 1px 2px rgba(60, 64, 67, 0.3), 0px 1px 3px 1px rgba(60, 64, 67, 0.15);\n",
              "      fill: #174EA6;\n",
              "    }\n",
              "\n",
              "    [theme=dark] .colab-df-convert {\n",
              "      background-color: #3B4455;\n",
              "      fill: #D2E3FC;\n",
              "    }\n",
              "\n",
              "    [theme=dark] .colab-df-convert:hover {\n",
              "      background-color: #434B5C;\n",
              "      box-shadow: 0px 1px 3px 1px rgba(0, 0, 0, 0.15);\n",
              "      filter: drop-shadow(0px 1px 2px rgba(0, 0, 0, 0.3));\n",
              "      fill: #FFFFFF;\n",
              "    }\n",
              "  </style>\n",
              "\n",
              "      <script>\n",
              "        const buttonEl =\n",
              "          document.querySelector('#df-dbffbf81-ac5d-43df-b0f8-8767dd8e75c3 button.colab-df-convert');\n",
              "        buttonEl.style.display =\n",
              "          google.colab.kernel.accessAllowed ? 'block' : 'none';\n",
              "\n",
              "        async function convertToInteractive(key) {\n",
              "          const element = document.querySelector('#df-dbffbf81-ac5d-43df-b0f8-8767dd8e75c3');\n",
              "          const dataTable =\n",
              "            await google.colab.kernel.invokeFunction('convertToInteractive',\n",
              "                                                     [key], {});\n",
              "          if (!dataTable) return;\n",
              "\n",
              "          const docLinkHtml = 'Like what you see? Visit the ' +\n",
              "            '<a target=\"_blank\" href=https://colab.research.google.com/notebooks/data_table.ipynb>data table notebook</a>'\n",
              "            + ' to learn more about interactive tables.';\n",
              "          element.innerHTML = '';\n",
              "          dataTable['output_type'] = 'display_data';\n",
              "          await google.colab.output.renderOutput(dataTable, element);\n",
              "          const docLink = document.createElement('div');\n",
              "          docLink.innerHTML = docLinkHtml;\n",
              "          element.appendChild(docLink);\n",
              "        }\n",
              "      </script>\n",
              "    </div>\n",
              "  </div>\n",
              "  "
            ]
          },
          "metadata": {},
          "execution_count": 103
        }
      ]
    },
    {
      "cell_type": "markdown",
      "source": [
        "**Todo 4:** What are the 2 variables selected"
      ],
      "metadata": {
        "id": "HAS8isG4bC7j"
      }
    },
    {
      "cell_type": "markdown",
      "source": [
        "# Two variables: Shell weight with Shucked weight gives the highest r squared scores"
      ],
      "metadata": {
        "id": "pq9f_9CweSuZ"
      }
    }
  ],
  "metadata": {
    "colab": {
      "provenance": []
    },
    "kernelspec": {
      "display_name": "Python 3",
      "language": "python",
      "name": "python3"
    },
    "language_info": {
      "codemirror_mode": {
        "name": "ipython",
        "version": 3
      },
      "file_extension": ".py",
      "mimetype": "text/x-python",
      "name": "python",
      "nbconvert_exporter": "python",
      "pygments_lexer": "ipython3",
      "version": "3.8.5"
    }
  },
  "nbformat": 4,
  "nbformat_minor": 0
}
